{
  "nbformat": 4,
  "nbformat_minor": 0,
  "metadata": {
    "kernelspec": {
      "display_name": "R",
      "language": "R",
      "name": "ir"
    },
    "language_info": {
      "codemirror_mode": "r",
      "file_extension": ".r",
      "mimetype": "text/x-r-source",
      "name": "R",
      "pygments_lexer": "r",
      "version": "3.3.1"
    },
    "colab": {
      "name": "Copy of M2 eksam",
      "provenance": [],
      "collapsed_sections": [],
      "toc_visible": true,
      "include_colab_link": true
    }
  },
  "cells": [
    {
      "cell_type": "markdown",
      "metadata": {
        "id": "view-in-github",
        "colab_type": "text"
      },
      "source": [
        "<a href=\"https://colab.research.google.com/github/LasZAAU/AAU/blob/master/Copy_of_M2_eksam.ipynb\" target=\"_parent\"><img src=\"https://colab.research.google.com/assets/colab-badge.svg\" alt=\"Open In Colab\"/></a>"
      ]
    },
    {
      "cell_type": "markdown",
      "metadata": {
        "id": "lu75ojdZqrz9",
        "colab_type": "text"
      },
      "source": [
        "# M2 Eksamen"
      ]
    },
    {
      "cell_type": "markdown",
      "metadata": {
        "id": "DmiPdWOurZoT",
        "colab_type": "text"
      },
      "source": [
        "## Description of data acquisition / how it was collected (by you or the publisher of the data)"
      ]
    },
    {
      "cell_type": "markdown",
      "metadata": {
        "id": "wyuFeYWZrfI5",
        "colab_type": "text"
      },
      "source": [
        "The dataset is a set of SMS labeled messages which is collected for mobile phone spam research. The dataset is a collection of 5.574 real and non-enconded English messages. \n",
        "The dataset is a collection of various free research content on the Internet. For example, some of the spam messages come from a UK forum where you can report if the messages is spam. Additionally, some of ham messages are getting from the Institute of Computer Science at the National University of Singapore. All the messages is incorporated to our dateset \" SMS Spam Collection.\"\n"
      ]
    },
    {
      "cell_type": "markdown",
      "metadata": {
        "id": "q9xlOvf1q0el",
        "colab_type": "text"
      },
      "source": [
        "## Definition of a problem statement and a short outline of the implementation"
      ]
    },
    {
      "cell_type": "markdown",
      "metadata": {
        "id": "JFwmhI7jrWhc",
        "colab_type": "text"
      },
      "source": [
        "This project will be centralized around SMS messages and how Data Science can contribute to filtering out unwanted text messages. The overall problem is affiliated with the different types of SMS labeled messages with specific focus on \"Spam\" in SMS messages. Spam is generally associated with messages that contain advertisement, harrestment or general fraud. Spam messages often contain hidden links, with the intent of obtaining the users password,login informaton, bank information or credit card informartion. Spam messages are an extreme nuisance for the general population, which creates a clear problem concerning detecting these spam SMS messages. The overall goal of this project will be to discover how spam SMS messages differ from ordinary messages, so a proper model can be made for detecting and filtering out spam messages. This will done by firstly analyzing the messages and discovering topic detection throughout all the messages.****(skal vi skrive alt hvad vi gør eller ikke? hvad synes i?)\n"
      ]
    },
    {
      "cell_type": "markdown",
      "metadata": {
        "id": "rVggQBtkrrDS",
        "colab_type": "text"
      },
      "source": [
        "## Data preparation (general)"
      ]
    },
    {
      "cell_type": "markdown",
      "metadata": {
        "id": "8EPJX8moaVB1",
        "colab_type": "text"
      },
      "source": [
        "We load the majority of the packages needed for the analysis"
      ]
    },
    {
      "cell_type": "code",
      "metadata": {
        "id": "VQj3waUiD4Y-",
        "colab_type": "code",
        "outputId": "5f2eb7fb-2f2a-4c0b-9245-a0dcf0a3e84e",
        "colab": {
          "base_uri": "https://localhost:8080/",
          "height": 1000
        }
      },
      "source": [
        "install.packages(\"pacman\")\n",
        "library(pacman)\n",
        "pacman::p_load(tidyverse,\n",
        "               magrittr,\n",
        "               SnowballC,\n",
        "               corpus,\n",
        "               quanteda,\n",
        "               tidytext,\n",
        "               tm,\n",
        "               topicmodels,\n",
        "               lsa,\n",
        "               uwot, #for UMAP\n",
        "               dbscan,# For density based clustering\n",
        "               ggraph,\n",
        "               igraph,\n",
        "               text2vec,\n",
        "               randomForest\n",
        "              )"
      ],
      "execution_count": 1,
      "outputs": [
        {
          "output_type": "stream",
          "text": [
            "Installing package into ‘/usr/local/lib/R/site-library’\n",
            "(as ‘lib’ is unspecified)\n",
            "Installing package into ‘/usr/local/lib/R/site-library’\n",
            "(as ‘lib’ is unspecified)\n",
            "\n",
            "SnowballC installed\n",
            "Installing package into ‘/usr/local/lib/R/site-library’\n",
            "(as ‘lib’ is unspecified)\n",
            "\n",
            "corpus installed\n",
            "Installing package into ‘/usr/local/lib/R/site-library’\n",
            "(as ‘lib’ is unspecified)\n",
            "also installing the dependencies ‘coda’, ‘extrafontdb’, ‘Rttf2pt1’, ‘RcppEigen’, ‘statnet.common’, ‘reticulate’, ‘ISOcodes’, ‘data.table’, ‘extrafont’, ‘fastmatch’, ‘ggrepel’, ‘network’, ‘RSpectra’, ‘RcppParallel’, ‘sna’, ‘spacyr’, ‘stopwords’, ‘proxyC’, ‘RcppArmadillo’\n",
            "\n",
            "\n",
            "quanteda installed\n",
            "Installing package into ‘/usr/local/lib/R/site-library’\n",
            "(as ‘lib’ is unspecified)\n",
            "also installing the dependencies ‘hunspell’, ‘tokenizers’, ‘janeaustenr’\n",
            "\n",
            "\n",
            "tidytext installed\n",
            "Installing package into ‘/usr/local/lib/R/site-library’\n",
            "(as ‘lib’ is unspecified)\n",
            "also installing the dependencies ‘NLP’, ‘slam’\n",
            "\n",
            "\n",
            "tm installed\n",
            "Installing package into ‘/usr/local/lib/R/site-library’\n",
            "(as ‘lib’ is unspecified)\n",
            "also installing the dependency ‘modeltools’\n",
            "\n",
            "Warning message in utils::install.packages(package, ...):\n",
            "“installation of package ‘topicmodels’ had non-zero exit status”Warning message in p_install(package, character.only = TRUE, ...):\n",
            "“”Warning message in library(package, lib.loc = lib.loc, character.only = TRUE, logical.return = TRUE, :\n",
            "“there is no package called ‘topicmodels’”Installing package into ‘/usr/local/lib/R/site-library’\n",
            "(as ‘lib’ is unspecified)\n",
            "\n",
            "lsa installed\n",
            "Installing package into ‘/usr/local/lib/R/site-library’\n",
            "(as ‘lib’ is unspecified)\n",
            "also installing the dependencies ‘sitmo’, ‘FNN’, ‘RcppAnnoy’, ‘irlba’, ‘RcppProgress’, ‘dqrng’\n",
            "\n",
            "\n",
            "uwot installed\n",
            "Installing package into ‘/usr/local/lib/R/site-library’\n",
            "(as ‘lib’ is unspecified)\n",
            "\n",
            "dbscan installed\n",
            "Installing package into ‘/usr/local/lib/R/site-library’\n",
            "(as ‘lib’ is unspecified)\n",
            "also installing the dependencies ‘farver’, ‘tweenr’, ‘polyclip’, ‘gridExtra’, ‘ggforce’, ‘igraph’, ‘viridis’, ‘tidygraph’, ‘graphlayouts’\n",
            "\n",
            "\n",
            "ggraph installed\n",
            "Installing package into ‘/usr/local/lib/R/site-library’\n",
            "(as ‘lib’ is unspecified)\n",
            "also installing the dependencies ‘formatR’, ‘iterators’, ‘lambda.r’, ‘futile.options’, ‘foreach’, ‘futile.logger’, ‘mlapi’, ‘sparsepp’\n",
            "\n",
            "\n",
            "text2vec installed\n",
            "Installing package into ‘/usr/local/lib/R/site-library’\n",
            "(as ‘lib’ is unspecified)\n",
            "\n",
            "randomForest installed\n",
            "Warning message in pacman::p_load(tidyverse, magrittr, SnowballC, corpus, quanteda, :\n",
            "“Failed to install/load:\n",
            "topicmodels”"
          ],
          "name": "stderr"
        }
      ]
    },
    {
      "cell_type": "code",
      "metadata": {
        "id": "90E5IapH_t0j",
        "colab_type": "code",
        "colab": {
          "base_uri": "https://localhost:8080/",
          "height": 289
        },
        "outputId": "3e77325b-c01c-44c6-b40f-06df91d0ce98"
      },
      "source": [
        "SMSspam=read_delim(\"https://raw.githubusercontent.com/apla14/hello-world/master/SpamSms\", \n",
        "    \";\",escape_double = FALSE, col_names = FALSE, \n",
        "    trim_ws = TRUE)"
      ],
      "execution_count": 2,
      "outputs": [
        {
          "output_type": "stream",
          "text": [
            "Parsed with column specification:\n",
            "cols(\n",
            "  X1 = \u001b[31mcol_character()\u001b[39m,\n",
            "  X2 = \u001b[31mcol_character()\u001b[39m\n",
            ")\n",
            "Warning message:\n",
            "“7 parsing failures.\n",
            " row col  expected     actual                                                                  file\n",
            "1129  -- 2 columns 3 columns  'https://raw.githubusercontent.com/apla14/hello-world/master/SpamSms'\n",
            "1442  -- 2 columns 3 columns  'https://raw.githubusercontent.com/apla14/hello-world/master/SpamSms'\n",
            "2371  -- 2 columns 3 columns  'https://raw.githubusercontent.com/apla14/hello-world/master/SpamSms'\n",
            "2435  -- 2 columns 15 columns 'https://raw.githubusercontent.com/apla14/hello-world/master/SpamSms'\n",
            "3053  -- 2 columns 3 columns  'https://raw.githubusercontent.com/apla14/hello-world/master/SpamSms'\n",
            ".... ... ......... .......... .....................................................................\n",
            "See problems(...) for more details.\n",
            "”"
          ],
          "name": "stderr"
        }
      ]
    },
    {
      "cell_type": "markdown",
      "metadata": {
        "id": "2cxqG2p2r_E5",
        "colab_type": "text"
      },
      "source": [
        "Firstly we inspect the data"
      ]
    },
    {
      "cell_type": "code",
      "metadata": {
        "id": "oD6B-XwfsODs",
        "colab_type": "code",
        "colab": {
          "base_uri": "https://localhost:8080/",
          "height": 238
        },
        "outputId": "ad40e446-42cf-4d11-d79b-f88aa3f58804"
      },
      "source": [
        "SMSspam %>% head()"
      ],
      "execution_count": 3,
      "outputs": [
        {
          "output_type": "display_data",
          "data": {
            "text/plain": [
              "  X1  \n",
              "1 ham \n",
              "2 ham \n",
              "3 spam\n",
              "4 ham \n",
              "5 ham \n",
              "6 spam\n",
              "  X2                                                                                                                                                         \n",
              "1 Go until jurong point, crazy.. Available only in bugis n great world la e buffet... Cine there got amore wat...                                            \n",
              "2 Ok lar... Joking wif u oni...                                                                                                                              \n",
              "3 Free entry in 2 a wkly comp to win FA Cup final tkts 21st May 2005. Text FA to 87121 to receive entry question(std txt rate)T&C's apply 08452810075over18's\n",
              "4 U dun say so early hor... U c already then say...                                                                                                          \n",
              "5 Nah I don't think he goes to usf, he lives around here though                                                                                              \n",
              "6 FreeMsg Hey there darling it's been 3 week's now and no word back! I'd like some fun you up for it still? Tb ok! XxX std chgs to send, £1.50 to rcv        "
            ],
            "text/latex": "A tibble: 6 × 2\n\\begin{tabular}{r|ll}\n X1 & X2\\\\\n <chr> & <chr>\\\\\n\\hline\n\t ham  & Go until jurong point, crazy.. Available only in bugis n great world la e buffet... Cine there got amore wat...                                            \\\\\n\t ham  & Ok lar... Joking wif u oni...                                                                                                                              \\\\\n\t spam & Free entry in 2 a wkly comp to win FA Cup final tkts 21st May 2005. Text FA to 87121 to receive entry question(std txt rate)T\\&C's apply 08452810075over18's\\\\\n\t ham  & U dun say so early hor... U c already then say...                                                                                                          \\\\\n\t ham  & Nah I don't think he goes to usf, he lives around here though                                                                                              \\\\\n\t spam & FreeMsg Hey there darling it's been 3 week's now and no word back! I'd like some fun you up for it still? Tb ok! XxX std chgs to send, £1.50 to rcv        \\\\\n\\end{tabular}\n",
            "text/markdown": "\nA tibble: 6 × 2\n\n| X1 &lt;chr&gt; | X2 &lt;chr&gt; |\n|---|---|\n| ham  | Go until jurong point, crazy.. Available only in bugis n great world la e buffet... Cine there got amore wat...                                             |\n| ham  | Ok lar... Joking wif u oni...                                                                                                                               |\n| spam | Free entry in 2 a wkly comp to win FA Cup final tkts 21st May 2005. Text FA to 87121 to receive entry question(std txt rate)T&amp;C's apply 08452810075over18's |\n| ham  | U dun say so early hor... U c already then say...                                                                                                           |\n| ham  | Nah I don't think he goes to usf, he lives around here though                                                                                               |\n| spam | FreeMsg Hey there darling it's been 3 week's now and no word back! I'd like some fun you up for it still? Tb ok! XxX std chgs to send, £1.50 to rcv         |\n\n",
            "text/html": [
              "<table>\n",
              "<caption>A tibble: 6 × 2</caption>\n",
              "<thead>\n",
              "\t<tr><th scope=col>X1</th><th scope=col>X2</th></tr>\n",
              "\t<tr><th scope=col>&lt;chr&gt;</th><th scope=col>&lt;chr&gt;</th></tr>\n",
              "</thead>\n",
              "<tbody>\n",
              "\t<tr><td>ham </td><td>Go until jurong point, crazy.. Available only in bugis n great world la e buffet... Cine there got amore wat...                                            </td></tr>\n",
              "\t<tr><td>ham </td><td>Ok lar... Joking wif u oni...                                                                                                                              </td></tr>\n",
              "\t<tr><td>spam</td><td>Free entry in 2 a wkly comp to win FA Cup final tkts 21st May 2005. Text FA to 87121 to receive entry question(std txt rate)T&amp;C's apply 08452810075over18's</td></tr>\n",
              "\t<tr><td>ham </td><td>U dun say so early hor... U c already then say...                                                                                                          </td></tr>\n",
              "\t<tr><td>ham </td><td>Nah I don't think he goes to usf, he lives around here though                                                                                              </td></tr>\n",
              "\t<tr><td>spam</td><td>FreeMsg Hey there darling it's been 3 week's now and no word back! I'd like some fun you up for it still? Tb ok! XxX std chgs to send, £1.50 to rcv        </td></tr>\n",
              "</tbody>\n",
              "</table>\n"
            ]
          },
          "metadata": {
            "tags": []
          }
        }
      ]
    },
    {
      "cell_type": "markdown",
      "metadata": {
        "id": "XcTuPiy5nNfL",
        "colab_type": "text"
      },
      "source": [
        "We can observe two columns. One indicating whether a SMS is ham(a real legitimate message) or spam(advertising/harassment) and a second column showing the actual text message. These two columns are unnamed in the original dataset, so we add the column names accordingly below"
      ]
    },
    {
      "cell_type": "code",
      "metadata": {
        "id": "SZkXNQbJr2lE",
        "colab_type": "code",
        "colab": {
          "base_uri": "https://localhost:8080/",
          "height": 238
        },
        "outputId": "d3b2ff5c-aa24-4b55-8b09-ec080395b239"
      },
      "source": [
        "SMSspam %<>% mutate(ID=rownames(SMSspam)) %>% select(ID,X1,X2) \n",
        "SMSspam %<>% mutate(ham_spam=X1) %>% mutate(SMS=X2) %>% select(-X1,-X2)\n",
        "SMSspam %>% head()"
      ],
      "execution_count": 4,
      "outputs": [
        {
          "output_type": "display_data",
          "data": {
            "text/plain": [
              "  ID ham_spam\n",
              "1 1  ham     \n",
              "2 2  ham     \n",
              "3 3  spam    \n",
              "4 4  ham     \n",
              "5 5  ham     \n",
              "6 6  spam    \n",
              "  SMS                                                                                                                                                        \n",
              "1 Go until jurong point, crazy.. Available only in bugis n great world la e buffet... Cine there got amore wat...                                            \n",
              "2 Ok lar... Joking wif u oni...                                                                                                                              \n",
              "3 Free entry in 2 a wkly comp to win FA Cup final tkts 21st May 2005. Text FA to 87121 to receive entry question(std txt rate)T&C's apply 08452810075over18's\n",
              "4 U dun say so early hor... U c already then say...                                                                                                          \n",
              "5 Nah I don't think he goes to usf, he lives around here though                                                                                              \n",
              "6 FreeMsg Hey there darling it's been 3 week's now and no word back! I'd like some fun you up for it still? Tb ok! XxX std chgs to send, £1.50 to rcv        "
            ],
            "text/latex": "A tibble: 6 × 3\n\\begin{tabular}{r|lll}\n ID & ham\\_spam & SMS\\\\\n <chr> & <chr> & <chr>\\\\\n\\hline\n\t 1 & ham  & Go until jurong point, crazy.. Available only in bugis n great world la e buffet... Cine there got amore wat...                                            \\\\\n\t 2 & ham  & Ok lar... Joking wif u oni...                                                                                                                              \\\\\n\t 3 & spam & Free entry in 2 a wkly comp to win FA Cup final tkts 21st May 2005. Text FA to 87121 to receive entry question(std txt rate)T\\&C's apply 08452810075over18's\\\\\n\t 4 & ham  & U dun say so early hor... U c already then say...                                                                                                          \\\\\n\t 5 & ham  & Nah I don't think he goes to usf, he lives around here though                                                                                              \\\\\n\t 6 & spam & FreeMsg Hey there darling it's been 3 week's now and no word back! I'd like some fun you up for it still? Tb ok! XxX std chgs to send, £1.50 to rcv        \\\\\n\\end{tabular}\n",
            "text/markdown": "\nA tibble: 6 × 3\n\n| ID &lt;chr&gt; | ham_spam &lt;chr&gt; | SMS &lt;chr&gt; |\n|---|---|---|\n| 1 | ham  | Go until jurong point, crazy.. Available only in bugis n great world la e buffet... Cine there got amore wat...                                             |\n| 2 | ham  | Ok lar... Joking wif u oni...                                                                                                                               |\n| 3 | spam | Free entry in 2 a wkly comp to win FA Cup final tkts 21st May 2005. Text FA to 87121 to receive entry question(std txt rate)T&amp;C's apply 08452810075over18's |\n| 4 | ham  | U dun say so early hor... U c already then say...                                                                                                           |\n| 5 | ham  | Nah I don't think he goes to usf, he lives around here though                                                                                               |\n| 6 | spam | FreeMsg Hey there darling it's been 3 week's now and no word back! I'd like some fun you up for it still? Tb ok! XxX std chgs to send, £1.50 to rcv         |\n\n",
            "text/html": [
              "<table>\n",
              "<caption>A tibble: 6 × 3</caption>\n",
              "<thead>\n",
              "\t<tr><th scope=col>ID</th><th scope=col>ham_spam</th><th scope=col>SMS</th></tr>\n",
              "\t<tr><th scope=col>&lt;chr&gt;</th><th scope=col>&lt;chr&gt;</th><th scope=col>&lt;chr&gt;</th></tr>\n",
              "</thead>\n",
              "<tbody>\n",
              "\t<tr><td>1</td><td>ham </td><td>Go until jurong point, crazy.. Available only in bugis n great world la e buffet... Cine there got amore wat...                                            </td></tr>\n",
              "\t<tr><td>2</td><td>ham </td><td>Ok lar... Joking wif u oni...                                                                                                                              </td></tr>\n",
              "\t<tr><td>3</td><td>spam</td><td>Free entry in 2 a wkly comp to win FA Cup final tkts 21st May 2005. Text FA to 87121 to receive entry question(std txt rate)T&amp;C's apply 08452810075over18's</td></tr>\n",
              "\t<tr><td>4</td><td>ham </td><td>U dun say so early hor... U c already then say...                                                                                                          </td></tr>\n",
              "\t<tr><td>5</td><td>ham </td><td>Nah I don't think he goes to usf, he lives around here though                                                                                              </td></tr>\n",
              "\t<tr><td>6</td><td>spam</td><td>FreeMsg Hey there darling it's been 3 week's now and no word back! I'd like some fun you up for it still? Tb ok! XxX std chgs to send, £1.50 to rcv        </td></tr>\n",
              "</tbody>\n",
              "</table>\n"
            ]
          },
          "metadata": {
            "tags": []
          }
        }
      ]
    },
    {
      "cell_type": "markdown",
      "metadata": {
        "id": "NTfGN3EbbPic",
        "colab_type": "text"
      },
      "source": [
        ""
      ]
    },
    {
      "cell_type": "code",
      "metadata": {
        "id": "11KJq8GZHnmX",
        "colab_type": "code",
        "colab": {
          "base_uri": "https://localhost:8080/",
          "height": 425
        },
        "outputId": "f884591f-cc3c-4b7f-912b-697fc93bb838"
      },
      "source": [
        "data = SMSspam %>% unnest_tokens(word,SMS)\n",
        "data %>% head()\n",
        "data %>% group_by(word) %>% count() %>% arrange(desc(n)) %>% head()"
      ],
      "execution_count": 5,
      "outputs": [
        {
          "output_type": "display_data",
          "data": {
            "text/plain": [
              "  ID ham_spam word     \n",
              "1 1  ham      go       \n",
              "2 1  ham      until    \n",
              "3 1  ham      jurong   \n",
              "4 1  ham      point    \n",
              "5 1  ham      crazy    \n",
              "6 1  ham      available"
            ],
            "text/latex": "A tibble: 6 × 3\n\\begin{tabular}{r|lll}\n ID & ham\\_spam & word\\\\\n <chr> & <chr> & <chr>\\\\\n\\hline\n\t 1 & ham & go       \\\\\n\t 1 & ham & until    \\\\\n\t 1 & ham & jurong   \\\\\n\t 1 & ham & point    \\\\\n\t 1 & ham & crazy    \\\\\n\t 1 & ham & available\\\\\n\\end{tabular}\n",
            "text/markdown": "\nA tibble: 6 × 3\n\n| ID &lt;chr&gt; | ham_spam &lt;chr&gt; | word &lt;chr&gt; |\n|---|---|---|\n| 1 | ham | go        |\n| 1 | ham | until     |\n| 1 | ham | jurong    |\n| 1 | ham | point     |\n| 1 | ham | crazy     |\n| 1 | ham | available |\n\n",
            "text/html": [
              "<table>\n",
              "<caption>A tibble: 6 × 3</caption>\n",
              "<thead>\n",
              "\t<tr><th scope=col>ID</th><th scope=col>ham_spam</th><th scope=col>word</th></tr>\n",
              "\t<tr><th scope=col>&lt;chr&gt;</th><th scope=col>&lt;chr&gt;</th><th scope=col>&lt;chr&gt;</th></tr>\n",
              "</thead>\n",
              "<tbody>\n",
              "\t<tr><td>1</td><td>ham</td><td>go       </td></tr>\n",
              "\t<tr><td>1</td><td>ham</td><td>until    </td></tr>\n",
              "\t<tr><td>1</td><td>ham</td><td>jurong   </td></tr>\n",
              "\t<tr><td>1</td><td>ham</td><td>point    </td></tr>\n",
              "\t<tr><td>1</td><td>ham</td><td>crazy    </td></tr>\n",
              "\t<tr><td>1</td><td>ham</td><td>available</td></tr>\n",
              "</tbody>\n",
              "</table>\n"
            ]
          },
          "metadata": {
            "tags": []
          }
        },
        {
          "output_type": "display_data",
          "data": {
            "text/plain": [
              "  word n   \n",
              "1 i    2300\n",
              "2 to   2249\n",
              "3 you  2149\n",
              "4 a    1448\n",
              "5 the  1335\n",
              "6 u    1183"
            ],
            "text/latex": "A grouped_df: 6 × 2\n\\begin{tabular}{r|ll}\n word & n\\\\\n <chr> & <int>\\\\\n\\hline\n\t i   & 2300\\\\\n\t to  & 2249\\\\\n\t you & 2149\\\\\n\t a   & 1448\\\\\n\t the & 1335\\\\\n\t u   & 1183\\\\\n\\end{tabular}\n",
            "text/markdown": "\nA grouped_df: 6 × 2\n\n| word &lt;chr&gt; | n &lt;int&gt; |\n|---|---|\n| i   | 2300 |\n| to  | 2249 |\n| you | 2149 |\n| a   | 1448 |\n| the | 1335 |\n| u   | 1183 |\n\n",
            "text/html": [
              "<table>\n",
              "<caption>A grouped_df: 6 × 2</caption>\n",
              "<thead>\n",
              "\t<tr><th scope=col>word</th><th scope=col>n</th></tr>\n",
              "\t<tr><th scope=col>&lt;chr&gt;</th><th scope=col>&lt;int&gt;</th></tr>\n",
              "</thead>\n",
              "<tbody>\n",
              "\t<tr><td>i  </td><td>2300</td></tr>\n",
              "\t<tr><td>to </td><td>2249</td></tr>\n",
              "\t<tr><td>you</td><td>2149</td></tr>\n",
              "\t<tr><td>a  </td><td>1448</td></tr>\n",
              "\t<tr><td>the</td><td>1335</td></tr>\n",
              "\t<tr><td>u  </td><td>1183</td></tr>\n",
              "</tbody>\n",
              "</table>\n"
            ]
          },
          "metadata": {
            "tags": []
          }
        }
      ]
    },
    {
      "cell_type": "code",
      "metadata": {
        "id": "fzvNxwpEInzu",
        "colab_type": "code",
        "colab": {
          "base_uri": "https://localhost:8080/",
          "height": 238
        },
        "outputId": "725c4ab9-f90e-44ba-ae09-1f5cd75e0678"
      },
      "source": [
        "own_stopwords = tibble(word = c(\"gt\",\"lt\",\"ü\",\"2\",\"4\"), lexicon=\"OWN\")\n",
        "data= data %>% anti_join(stop_words%>% bind_rows(own_stopwords),by=\"word\") %>% mutate(word=wordStem(word))\n",
        "data %>% group_by(word) %>% count() %>% arrange(desc(n)) %>% head()"
      ],
      "execution_count": 6,
      "outputs": [
        {
          "output_type": "display_data",
          "data": {
            "text/plain": [
              "  word n  \n",
              "1 call 673\n",
              "2 ur   395\n",
              "3 free 282\n",
              "4 dai  261\n",
              "5 love 258\n",
              "6 time 249"
            ],
            "text/latex": "A grouped_df: 6 × 2\n\\begin{tabular}{r|ll}\n word & n\\\\\n <chr> & <int>\\\\\n\\hline\n\t call & 673\\\\\n\t ur   & 395\\\\\n\t free & 282\\\\\n\t dai  & 261\\\\\n\t love & 258\\\\\n\t time & 249\\\\\n\\end{tabular}\n",
            "text/markdown": "\nA grouped_df: 6 × 2\n\n| word &lt;chr&gt; | n &lt;int&gt; |\n|---|---|\n| call | 673 |\n| ur   | 395 |\n| free | 282 |\n| dai  | 261 |\n| love | 258 |\n| time | 249 |\n\n",
            "text/html": [
              "<table>\n",
              "<caption>A grouped_df: 6 × 2</caption>\n",
              "<thead>\n",
              "\t<tr><th scope=col>word</th><th scope=col>n</th></tr>\n",
              "\t<tr><th scope=col>&lt;chr&gt;</th><th scope=col>&lt;int&gt;</th></tr>\n",
              "</thead>\n",
              "<tbody>\n",
              "\t<tr><td>call</td><td>673</td></tr>\n",
              "\t<tr><td>ur  </td><td>395</td></tr>\n",
              "\t<tr><td>free</td><td>282</td></tr>\n",
              "\t<tr><td>dai </td><td>261</td></tr>\n",
              "\t<tr><td>love</td><td>258</td></tr>\n",
              "\t<tr><td>time</td><td>249</td></tr>\n",
              "</tbody>\n",
              "</table>\n"
            ]
          },
          "metadata": {
            "tags": []
          }
        }
      ]
    },
    {
      "cell_type": "code",
      "metadata": {
        "id": "sZDV7iF6sitQ",
        "colab_type": "code",
        "colab": {
          "base_uri": "https://localhost:8080/",
          "height": 357
        },
        "outputId": "82c864f5-193c-4655-86bb-69b0d2e91042"
      },
      "source": [
        "dtm = data %>%  count(ID, word) %>% cast_dtm(document =ID, term = word, value = n, weighting = tm::weightTf)\n",
        "\n",
        "dtm\n",
        "\n",
        "dtm %>% removeSparseTerms(sparse = .99)\n",
        "dtm %>% removeSparseTerms(sparse = .999)\n",
        "dtm %>% removeSparseTerms(sparse = .9999)"
      ],
      "execution_count": 7,
      "outputs": [
        {
          "output_type": "display_data",
          "data": {
            "text/plain": [
              "<<DocumentTermMatrix (documents: 5451, terms: 7417)>>\n",
              "Non-/sparse entries: 35192/40394875\n",
              "Sparsity           : 100%\n",
              "Maximal term length: 42\n",
              "Weighting          : term frequency (tf)"
            ]
          },
          "metadata": {
            "tags": []
          }
        },
        {
          "output_type": "display_data",
          "data": {
            "text/plain": [
              "<<DocumentTermMatrix (documents: 5451, terms: 78)>>\n",
              "Non-/sparse entries: 8497/416681\n",
              "Sparsity           : 98%\n",
              "Maximal term length: 8\n",
              "Weighting          : term frequency (tf)"
            ]
          },
          "metadata": {
            "tags": []
          }
        },
        {
          "output_type": "display_data",
          "data": {
            "text/plain": [
              "<<DocumentTermMatrix (documents: 5451, terms: 1159)>>\n",
              "Non-/sparse entries: 24917/6292792\n",
              "Sparsity           : 100%\n",
              "Maximal term length: 17\n",
              "Weighting          : term frequency (tf)"
            ]
          },
          "metadata": {
            "tags": []
          }
        },
        {
          "output_type": "display_data",
          "data": {
            "text/plain": [
              "<<DocumentTermMatrix (documents: 5451, terms: 7417)>>\n",
              "Non-/sparse entries: 35192/40394875\n",
              "Sparsity           : 100%\n",
              "Maximal term length: 42\n",
              "Weighting          : term frequency (tf)"
            ]
          },
          "metadata": {
            "tags": []
          }
        }
      ]
    },
    {
      "cell_type": "markdown",
      "metadata": {
        "id": "342AMnNVtolu",
        "colab_type": "text"
      },
      "source": [
        "## Network Data - preparation"
      ]
    },
    {
      "cell_type": "markdown",
      "metadata": {
        "id": "KSz8Rq7BuAht",
        "colab_type": "text"
      },
      "source": [
        "MANGLER"
      ]
    },
    {
      "cell_type": "markdown",
      "metadata": {
        "id": "YyTaThEnuDhn",
        "colab_type": "text"
      },
      "source": [
        "## NLP - preparation"
      ]
    },
    {
      "cell_type": "markdown",
      "metadata": {
        "id": "HCaT_MVcuVbU",
        "colab_type": "text"
      },
      "source": [
        ".."
      ]
    },
    {
      "cell_type": "markdown",
      "metadata": {
        "id": "41SgkU3Lueft",
        "colab_type": "text"
      },
      "source": [
        "## Network analysis\n",
        "\n",
        "\n",
        "\n"
      ]
    },
    {
      "cell_type": "markdown",
      "metadata": {
        "id": "L5ceDFrmunHz",
        "colab_type": "text"
      },
      "source": [
        "..\n"
      ]
    },
    {
      "cell_type": "markdown",
      "metadata": {
        "id": "WQNRP-xUI_JK",
        "colab_type": "text"
      },
      "source": [
        "# NLP\n",
        "- EDA / simple frequency-based analysis\n",
        "- Simple vectorization (BoW, Tf-idf)\n",
        "- Topic modelling / Clustering (LDA / LSA)\n",
        "- Embedding-model based vectorization (Word2Vec, Fasttext, GloVe)"
      ]
    },
    {
      "cell_type": "markdown",
      "metadata": {
        "id": "gb0hXv1lZXRN",
        "colab_type": "text"
      },
      "source": [
        "Tf-idf which stands for term-frequency- inverse document frequency, measures how relevant a term is in given document and how often a words appear. The relevans of the word increase to the number of times a word appears, but is offset by the frequency of the word in the corpus."
      ]
    },
    {
      "cell_type": "code",
      "metadata": {
        "id": "2bN0-m2yZZtw",
        "colab_type": "code",
        "colab": {
          "base_uri": "https://localhost:8080/",
          "height": 204
        },
        "outputId": "184bc13f-3a86-4215-f64d-07a8aaffdc94"
      },
      "source": [
        "sms_idf <- data %>% \n",
        "  count(ham_spam,word, sort = TRUE) %>% \n",
        "  bind_tf_idf(ham_spam, word, n)\n",
        "\n",
        "sms_idf %>% \n",
        "  head()"
      ],
      "execution_count": 8,
      "outputs": [
        {
          "output_type": "display_data",
          "data": {
            "text/plain": [
              "  ham_spam word n   tf        idf       tf_idf   \n",
              "1 spam     call 379 0.5631501 1.1015829 0.6203565\n",
              "2 ham      call 294 0.4368499 0.2615556 0.1142606\n",
              "3 ham      ur   251 0.6354430 0.2615556 0.1662037\n",
              "4 ham      love 248 0.9612403 0.2615556 0.2514178\n",
              "5 ham      time 230 0.9236948 0.2615556 0.2415976\n",
              "6 ham      dai  229 0.8773946 0.2615556 0.2294875"
            ],
            "text/latex": "A tibble: 6 × 6\n\\begin{tabular}{r|llllll}\n ham\\_spam & word & n & tf & idf & tf\\_idf\\\\\n <chr> & <chr> & <int> & <dbl> & <dbl> & <dbl>\\\\\n\\hline\n\t spam & call & 379 & 0.5631501 & 1.1015829 & 0.6203565\\\\\n\t ham  & call & 294 & 0.4368499 & 0.2615556 & 0.1142606\\\\\n\t ham  & ur   & 251 & 0.6354430 & 0.2615556 & 0.1662037\\\\\n\t ham  & love & 248 & 0.9612403 & 0.2615556 & 0.2514178\\\\\n\t ham  & time & 230 & 0.9236948 & 0.2615556 & 0.2415976\\\\\n\t ham  & dai  & 229 & 0.8773946 & 0.2615556 & 0.2294875\\\\\n\\end{tabular}\n",
            "text/markdown": "\nA tibble: 6 × 6\n\n| ham_spam &lt;chr&gt; | word &lt;chr&gt; | n &lt;int&gt; | tf &lt;dbl&gt; | idf &lt;dbl&gt; | tf_idf &lt;dbl&gt; |\n|---|---|---|---|---|---|\n| spam | call | 379 | 0.5631501 | 1.1015829 | 0.6203565 |\n| ham  | call | 294 | 0.4368499 | 0.2615556 | 0.1142606 |\n| ham  | ur   | 251 | 0.6354430 | 0.2615556 | 0.1662037 |\n| ham  | love | 248 | 0.9612403 | 0.2615556 | 0.2514178 |\n| ham  | time | 230 | 0.9236948 | 0.2615556 | 0.2415976 |\n| ham  | dai  | 229 | 0.8773946 | 0.2615556 | 0.2294875 |\n\n",
            "text/html": [
              "<table>\n",
              "<caption>A tibble: 6 × 6</caption>\n",
              "<thead>\n",
              "\t<tr><th scope=col>ham_spam</th><th scope=col>word</th><th scope=col>n</th><th scope=col>tf</th><th scope=col>idf</th><th scope=col>tf_idf</th></tr>\n",
              "\t<tr><th scope=col>&lt;chr&gt;</th><th scope=col>&lt;chr&gt;</th><th scope=col>&lt;int&gt;</th><th scope=col>&lt;dbl&gt;</th><th scope=col>&lt;dbl&gt;</th><th scope=col>&lt;dbl&gt;</th></tr>\n",
              "</thead>\n",
              "<tbody>\n",
              "\t<tr><td>spam</td><td>call</td><td>379</td><td>0.5631501</td><td>1.1015829</td><td>0.6203565</td></tr>\n",
              "\t<tr><td>ham </td><td>call</td><td>294</td><td>0.4368499</td><td>0.2615556</td><td>0.1142606</td></tr>\n",
              "\t<tr><td>ham </td><td>ur  </td><td>251</td><td>0.6354430</td><td>0.2615556</td><td>0.1662037</td></tr>\n",
              "\t<tr><td>ham </td><td>love</td><td>248</td><td>0.9612403</td><td>0.2615556</td><td>0.2514178</td></tr>\n",
              "\t<tr><td>ham </td><td>time</td><td>230</td><td>0.9236948</td><td>0.2615556</td><td>0.2415976</td></tr>\n",
              "\t<tr><td>ham </td><td>dai </td><td>229</td><td>0.8773946</td><td>0.2615556</td><td>0.2294875</td></tr>\n",
              "</tbody>\n",
              "</table>\n"
            ]
          },
          "metadata": {
            "tags": []
          }
        }
      ]
    },
    {
      "cell_type": "markdown",
      "metadata": {
        "id": "I7eqVMlIZd83",
        "colab_type": "text"
      },
      "source": [
        "*TF:* Term frequency of a word shows how frequently words appear. If the document is long, then it is possible that a word would appear much more times than shorter ones. TF is intended thus: \n",
        "- TF(t) = (Number of times term t appears in a document) / (Total number of terms in the document). \n",
        "\n",
        "The figure shows that 'call' appears 379 times in spam and 294 times in ham. The term frequency for call is respectively 0.56 and 0.43.\n",
        "\n",
        "\n",
        "\n",
        "\n",
        "\n",
        "\n",
        "*IDF:* Inverse document frequency shows how common or rare a word is in the document. If IDF is closer to 0, then the word is more common and if not then it will approach to 1. IDF can be calculated: \n",
        "- (the total number of documents/number of documents that contain a word and calculating the logarith). \n",
        "\n",
        "When we multiply the numbers for TF and IDF it gives TD-IDF score. If the score is high the more relevant is the word in the document.  \n",
        "\n",
        "\n",
        "\n"
      ]
    },
    {
      "cell_type": "code",
      "metadata": {
        "id": "-CDlerdOZerB",
        "colab_type": "code",
        "colab": {
          "base_uri": "https://localhost:8080/",
          "height": 204
        },
        "outputId": "a96411cd-5b64-4f57-fe3e-e74194383c43"
      },
      "source": [
        "sms_idf %>% \n",
        "arrange(desc(tf_idf))  %>% \n",
        "head()\n",
        "  "
      ],
      "execution_count": 9,
      "outputs": [
        {
          "output_type": "display_data",
          "data": {
            "text/plain": [
              "  ham_spam word     n   tf idf      tf_idf  \n",
              "1 spam     claim    115 1  1.101583 1.101583\n",
              "2 spam     prize     94 1  1.101583 1.101583\n",
              "3 spam     tone      85 1  1.101583 1.101583\n",
              "4 spam     won       73 1  1.101583 1.101583\n",
              "5 spam     150p      71 1  1.101583 1.101583\n",
              "6 spam     guarante  51 1  1.101583 1.101583"
            ],
            "text/latex": "A tibble: 6 × 6\n\\begin{tabular}{r|llllll}\n ham\\_spam & word & n & tf & idf & tf\\_idf\\\\\n <chr> & <chr> & <int> & <dbl> & <dbl> & <dbl>\\\\\n\\hline\n\t spam & claim    & 115 & 1 & 1.101583 & 1.101583\\\\\n\t spam & prize    &  94 & 1 & 1.101583 & 1.101583\\\\\n\t spam & tone     &  85 & 1 & 1.101583 & 1.101583\\\\\n\t spam & won      &  73 & 1 & 1.101583 & 1.101583\\\\\n\t spam & 150p     &  71 & 1 & 1.101583 & 1.101583\\\\\n\t spam & guarante &  51 & 1 & 1.101583 & 1.101583\\\\\n\\end{tabular}\n",
            "text/markdown": "\nA tibble: 6 × 6\n\n| ham_spam &lt;chr&gt; | word &lt;chr&gt; | n &lt;int&gt; | tf &lt;dbl&gt; | idf &lt;dbl&gt; | tf_idf &lt;dbl&gt; |\n|---|---|---|---|---|---|\n| spam | claim    | 115 | 1 | 1.101583 | 1.101583 |\n| spam | prize    |  94 | 1 | 1.101583 | 1.101583 |\n| spam | tone     |  85 | 1 | 1.101583 | 1.101583 |\n| spam | won      |  73 | 1 | 1.101583 | 1.101583 |\n| spam | 150p     |  71 | 1 | 1.101583 | 1.101583 |\n| spam | guarante |  51 | 1 | 1.101583 | 1.101583 |\n\n",
            "text/html": [
              "<table>\n",
              "<caption>A tibble: 6 × 6</caption>\n",
              "<thead>\n",
              "\t<tr><th scope=col>ham_spam</th><th scope=col>word</th><th scope=col>n</th><th scope=col>tf</th><th scope=col>idf</th><th scope=col>tf_idf</th></tr>\n",
              "\t<tr><th scope=col>&lt;chr&gt;</th><th scope=col>&lt;chr&gt;</th><th scope=col>&lt;int&gt;</th><th scope=col>&lt;dbl&gt;</th><th scope=col>&lt;dbl&gt;</th><th scope=col>&lt;dbl&gt;</th></tr>\n",
              "</thead>\n",
              "<tbody>\n",
              "\t<tr><td>spam</td><td>claim   </td><td>115</td><td>1</td><td>1.101583</td><td>1.101583</td></tr>\n",
              "\t<tr><td>spam</td><td>prize   </td><td> 94</td><td>1</td><td>1.101583</td><td>1.101583</td></tr>\n",
              "\t<tr><td>spam</td><td>tone    </td><td> 85</td><td>1</td><td>1.101583</td><td>1.101583</td></tr>\n",
              "\t<tr><td>spam</td><td>won     </td><td> 73</td><td>1</td><td>1.101583</td><td>1.101583</td></tr>\n",
              "\t<tr><td>spam</td><td>150p    </td><td> 71</td><td>1</td><td>1.101583</td><td>1.101583</td></tr>\n",
              "\t<tr><td>spam</td><td>guarante</td><td> 51</td><td>1</td><td>1.101583</td><td>1.101583</td></tr>\n",
              "</tbody>\n",
              "</table>\n"
            ]
          },
          "metadata": {
            "tags": []
          }
        }
      ]
    },
    {
      "cell_type": "code",
      "metadata": {
        "id": "gTM5GCqBZlmb",
        "colab_type": "code",
        "colab": {
          "base_uri": "https://localhost:8080/",
          "height": 595
        },
        "outputId": "1dd5291f-fc59-4b59-9d87-83c594dc0221"
      },
      "source": [
        "#document - feature - matrix \n",
        "sms_dfm <-data %>%\n",
        "count(ID, word) %>%\n",
        "cast_dfm(document =ID, term =word, value =n)\n",
        "sparse = Matrix::Matrix(sms_dfm,sparse = TRUE)\n",
        "\n",
        "sms_dfm\n",
        "\n",
        "#When the document-feature-matrix is created, we execute a LDA with the quanteda function textmodel_lsa():\n",
        "sms_lsa <-sms_dfm %>%\n",
        "textmodel_lsa(nd =5)\n",
        "sms_lsa %>% glimpse()\n",
        "\n",
        "sms_lsa_loading <-sms_lsa$docs %>%as.data.frame() %>%rownames_to_column(var =\"ID\") %>%as_tibble()\n",
        "sms_lsa_loading %>%head()\n",
        "\n"
      ],
      "execution_count": 10,
      "outputs": [
        {
          "output_type": "display_data",
          "data": {
            "text/plain": [
              "Document-feature matrix of: 5,451 documents, 7,417 features (99.9% sparse)."
            ]
          },
          "metadata": {
            "tags": []
          }
        },
        {
          "output_type": "stream",
          "text": [
            "List of 5\n",
            " $ sk             : num [1:5] 34.2 28.1 23.7 22.8 20\n",
            " $ docs           : num [1:5451, 1:5] -1.19e-03 -5.87e-02 -1.45e-04 -1.40e-02 -7.51e-05 ...\n",
            "  ..- attr(*, \"dimnames\")=List of 2\n",
            "  .. ..$ : chr [1:5451] \"1\" \"10\" \"100\" \"1000\" ...\n",
            "  .. ..$ : NULL\n",
            " $ features       : num [1:7417, 1:5] -3.47e-05 -4.41e-05 -6.82e-04 -4.93e-04 -4.50e-03 ...\n",
            "  ..- attr(*, \"dimnames\")=List of 2\n",
            "  .. ..$ : chr [1:7417] \"amor\" \"buffet\" \"bugi\" \"cine\" ...\n",
            "  .. ..$ : NULL\n",
            " $ matrix_low_rank: num [1:5451, 1:7417] 1.96e-05 -1.30e-04 1.18e-06 9.50e-05 6.22e-07 ...\n",
            "  ..- attr(*, \"dimnames\")=List of 2\n",
            "  .. ..$ : chr [1:5451] \"1\" \"10\" \"100\" \"1000\" ...\n",
            "  .. ..$ : chr [1:7417] \"amor\" \"buffet\" \"bugi\" \"cine\" ...\n",
            " $ data           :Formal class 'dgCMatrix' [package \"Matrix\"] with 6 slots\n",
            "  .. ..@ i       : int [1:35192] 0 0 3160 0 383 715 1141 1841 2673 4409 ...\n",
            "  .. ..@ p       : int [1:7418] 0 1 3 10 17 31 32 39 140 175 ...\n",
            "  .. ..@ Dim     : int [1:2] 5451 7417\n",
            "  .. ..@ Dimnames:List of 2\n",
            "  .. ..@ x       : num [1:35192] 1 1 1 1 1 1 1 1 1 1 ...\n",
            "  .. ..@ factors : list()\n",
            " - attr(*, \"class\")= chr \"textmodel_lsa\"\n"
          ],
          "name": "stdout"
        },
        {
          "output_type": "display_data",
          "data": {
            "text/plain": [
              "  ID   V1            V2            V3            V4            V5           \n",
              "1 1    -1.187007e-03  2.126374e-03  2.119954e-03 -0.0004722118  0.0029940137\n",
              "2 10   -5.872433e-02 -1.667147e-02 -4.954157e-02  0.0405215259 -0.0132345199\n",
              "3 100  -1.454873e-04  6.120718e-05 -4.932348e-05  0.0003372846  0.0003795642\n",
              "4 1000 -1.400165e-02  2.884178e-02  1.434156e-03 -0.0129542770  0.0026251357\n",
              "5 1001 -7.513273e-05  1.541918e-05 -6.718202e-05  0.0002223929  0.0002496870\n",
              "6 1002 -3.079406e-04  3.845725e-04  2.661723e-04 -0.0001671042  0.0006136200"
            ],
            "text/latex": "A tibble: 6 × 6\n\\begin{tabular}{r|llllll}\n ID & V1 & V2 & V3 & V4 & V5\\\\\n <chr> & <dbl> & <dbl> & <dbl> & <dbl> & <dbl>\\\\\n\\hline\n\t 1    & -1.187007e-03 &  2.126374e-03 &  2.119954e-03 & -0.0004722118 &  0.0029940137\\\\\n\t 10   & -5.872433e-02 & -1.667147e-02 & -4.954157e-02 &  0.0405215259 & -0.0132345199\\\\\n\t 100  & -1.454873e-04 &  6.120718e-05 & -4.932348e-05 &  0.0003372846 &  0.0003795642\\\\\n\t 1000 & -1.400165e-02 &  2.884178e-02 &  1.434156e-03 & -0.0129542770 &  0.0026251357\\\\\n\t 1001 & -7.513273e-05 &  1.541918e-05 & -6.718202e-05 &  0.0002223929 &  0.0002496870\\\\\n\t 1002 & -3.079406e-04 &  3.845725e-04 &  2.661723e-04 & -0.0001671042 &  0.0006136200\\\\\n\\end{tabular}\n",
            "text/markdown": "\nA tibble: 6 × 6\n\n| ID &lt;chr&gt; | V1 &lt;dbl&gt; | V2 &lt;dbl&gt; | V3 &lt;dbl&gt; | V4 &lt;dbl&gt; | V5 &lt;dbl&gt; |\n|---|---|---|---|---|---|\n| 1    | -1.187007e-03 |  2.126374e-03 |  2.119954e-03 | -0.0004722118 |  0.0029940137 |\n| 10   | -5.872433e-02 | -1.667147e-02 | -4.954157e-02 |  0.0405215259 | -0.0132345199 |\n| 100  | -1.454873e-04 |  6.120718e-05 | -4.932348e-05 |  0.0003372846 |  0.0003795642 |\n| 1000 | -1.400165e-02 |  2.884178e-02 |  1.434156e-03 | -0.0129542770 |  0.0026251357 |\n| 1001 | -7.513273e-05 |  1.541918e-05 | -6.718202e-05 |  0.0002223929 |  0.0002496870 |\n| 1002 | -3.079406e-04 |  3.845725e-04 |  2.661723e-04 | -0.0001671042 |  0.0006136200 |\n\n",
            "text/html": [
              "<table>\n",
              "<caption>A tibble: 6 × 6</caption>\n",
              "<thead>\n",
              "\t<tr><th scope=col>ID</th><th scope=col>V1</th><th scope=col>V2</th><th scope=col>V3</th><th scope=col>V4</th><th scope=col>V5</th></tr>\n",
              "\t<tr><th scope=col>&lt;chr&gt;</th><th scope=col>&lt;dbl&gt;</th><th scope=col>&lt;dbl&gt;</th><th scope=col>&lt;dbl&gt;</th><th scope=col>&lt;dbl&gt;</th><th scope=col>&lt;dbl&gt;</th></tr>\n",
              "</thead>\n",
              "<tbody>\n",
              "\t<tr><td>1   </td><td>-1.187007e-03</td><td> 2.126374e-03</td><td> 2.119954e-03</td><td>-0.0004722118</td><td> 0.0029940137</td></tr>\n",
              "\t<tr><td>10  </td><td>-5.872433e-02</td><td>-1.667147e-02</td><td>-4.954157e-02</td><td> 0.0405215259</td><td>-0.0132345199</td></tr>\n",
              "\t<tr><td>100 </td><td>-1.454873e-04</td><td> 6.120718e-05</td><td>-4.932348e-05</td><td> 0.0003372846</td><td> 0.0003795642</td></tr>\n",
              "\t<tr><td>1000</td><td>-1.400165e-02</td><td> 2.884178e-02</td><td> 1.434156e-03</td><td>-0.0129542770</td><td> 0.0026251357</td></tr>\n",
              "\t<tr><td>1001</td><td>-7.513273e-05</td><td> 1.541918e-05</td><td>-6.718202e-05</td><td> 0.0002223929</td><td> 0.0002496870</td></tr>\n",
              "\t<tr><td>1002</td><td>-3.079406e-04</td><td> 3.845725e-04</td><td> 2.661723e-04</td><td>-0.0001671042</td><td> 0.0006136200</td></tr>\n",
              "</tbody>\n",
              "</table>\n"
            ]
          },
          "metadata": {
            "tags": []
          }
        }
      ]
    },
    {
      "cell_type": "markdown",
      "metadata": {
        "id": "RWQ7GsqsZrs-",
        "colab_type": "text"
      },
      "source": [
        "The dimensionality reduction can be visualized using the UMAP function.\n",
        "\n",
        "\n"
      ]
    },
    {
      "cell_type": "code",
      "metadata": {
        "id": "EvKSAtRPZxh_",
        "colab_type": "code",
        "colab": {
          "base_uri": "https://localhost:8080/",
          "height": 306
        },
        "outputId": "a2588045-708c-48be-f0a4-54e3212b9c2b"
      },
      "source": [
        "sms_lsa_umap <- umap(sms_lsa_loading %>% column_to_rownames(\"ID\"), \n",
        "                       n_neighbors = 15, metric = \"cosine\", min_dist = 0.01, scale = TRUE,\n",
        "                       verbose = TRUE, n_threads = 8) "
      ],
      "execution_count": 11,
      "outputs": [
        {
          "output_type": "stream",
          "text": [
            "11:53:23 UMAP embedding parameters a = 1.896 b = 0.8006\n",
            "11:53:23 Read 5451 rows and found 5 numeric columns\n",
            "11:53:23 Scaling to zero mean and unit variance\n",
            "11:53:23 Kept 5 non-zero-variance columns\n",
            "11:53:23 Using Annoy for neighbor search, n_neighbors = 15\n",
            "11:53:24 Building Annoy index with metric = cosine, n_trees = 50\n",
            "0%   10   20   30   40   50   60   70   80   90   100%\n",
            "[----|----|----|----|----|----|----|----|----|----|\n",
            "**************************************************|\n",
            "11:53:26 Writing NN index file to temp file /tmp/Rtmp4eUQOO/file7b71d955fa\n",
            "11:53:26 Searching Annoy index using 8 threads, search_k = 1500\n",
            "11:53:27 Annoy recall = 98%\n",
            "11:53:28 Commencing smooth kNN distance calibration using 8 threads\n",
            "11:53:28 377 smooth knn distance failures\n",
            "11:53:28 Initializing from normalized Laplacian + noise\n",
            "11:53:29 Commencing optimization for 500 epochs, with 100358 positive edges\n",
            "11:53:40 Optimization finished\n"
          ],
          "name": "stderr"
        }
      ]
    },
    {
      "cell_type": "code",
      "metadata": {
        "id": "qHLjeg2XZxzE",
        "colab_type": "code",
        "colab": {
          "base_uri": "https://localhost:8080/",
          "height": 857
        },
        "outputId": "97da6b34-269f-4aaf-a52f-bde1b56354dd"
      },
      "source": [
        "sms_lsa_umap %<>% as.data.frame()\n",
        "sms_lsa_umap %>% \n",
        "  ggplot(aes(x = V1, y = V2)) + \n",
        "  geom_point(shape = 21, alpha = 0.5) \n",
        "\n",
        "\n",
        "\n",
        "\n",
        "\n",
        "\n"
      ],
      "execution_count": 12,
      "outputs": [
        {
          "output_type": "display_data",
          "data": {
            "image/png": "[encoded data removed]",
            "text/plain": [
              "plot without title"
            ]
          },
          "metadata": {
            "tags": []
          }
        }
      ]
    },
    {
      "cell_type": "markdown",
      "metadata": {
        "id": "wLoxaU69b0sJ",
        "colab_type": "text"
      },
      "source": [
        ""
      ]
    },
    {
      "cell_type": "code",
      "metadata": {
        "id": "4_nU-HKKFDbL",
        "colab_type": "code",
        "colab": {
          "base_uri": "https://localhost:8080/",
          "height": 857
        },
        "outputId": "782dd3da-9776-49a1-c3af-a03f9cab6f57"
      },
      "source": [
        "lsa_hdbscan <- sms_lsa_umap %>% as.matrix() %>% hdbscan(minPts = 500)\n",
        "\n",
        "sms_lsa_umap %>%\n",
        "  bind_cols(cluster = lsa_hdbscan$cluster %>% as.factor(),\n",
        "            prob = lsa_hdbscan$membership_prob) %>%\n",
        "  ggplot(aes(x = V1, y = V2, col = cluster)) +\n",
        "  geom_point(aes(alpha = prob), shape = 21) "
      ],
      "execution_count": 13,
      "outputs": [
        {
          "output_type": "display_data",
          "data": {
            "image/png": "[encoded data removed]",
            "text/plain": [
              "plot without title"
            ]
          },
          "metadata": {
            "tags": []
          }
        }
      ]
    },
    {
      "cell_type": "markdown",
      "metadata": {
        "id": "jGKjf13baRvn",
        "colab_type": "text"
      },
      "source": [
        "# GLOVE"
      ]
    },
    {
      "cell_type": "code",
      "metadata": {
        "id": "ThVcRoQZaZx-",
        "colab_type": "code",
        "colab": {
          "base_uri": "https://localhost:8080/",
          "height": 1000
        },
        "outputId": "1a6f96a7-46f9-446f-a959-607e07a682c4"
      },
      "source": [
        "sms_corpus <- data %>% corpus(docid_field = \"ID\", text_field = \"word\")\n",
        "sms_corpus\n",
        "sms_toks <- tokens(sms_corpus, what = \"word\") %>%\n",
        "  tokens_tolower() %>%\n",
        "  tokens(remove_punct = TRUE,\n",
        "         remove_symbols = TRUE,\n",
        "        remove_numbers = TRUE,\n",
        "         remove_url = TRUE,\n",
        "         remove_separators = TRUE,\n",
        "         remove_hyphens = TRUE )\n",
        "\n",
        "feats <- dfm(sms_toks, verbose = TRUE) %>%\n",
        "  dfm_trim(min_termfreq = 5) %>%\n",
        "  featnames()\n",
        "\n",
        "\n",
        "sms_fcm <- fcm(sms_toks, \n",
        "                 context = \"window\", \n",
        "                 count = \"weighted\", \n",
        "                 weights = 1 / (1:5), \n",
        "                 tri = TRUE)\n",
        "\n",
        "\n",
        "\n",
        "\n",
        "\n",
        "\n"
      ],
      "execution_count": 14,
      "outputs": [
        {
          "output_type": "stream",
          "text": [
            "Warning message:\n",
            "“'[[.corpus' is deprecated.\n",
            "Use 'docvars' instead.\n",
            "See help(\"Deprecated\")”Warning message:\n",
            "“'[[.corpus' is deprecated.\n",
            "Use 'docvars' instead.\n",
            "See help(\"Deprecated\")”Warning message:\n",
            "“'[[.corpus' is deprecated.\n",
            "Use 'docvars' instead.\n",
            "See help(\"Deprecated\")”ERROR while rich displaying an object: Error in `[.data.frame`(x$documents, i, ...): undefined columns selected\n",
            "\n",
            "Traceback:\n",
            "1. FUN(X[[i]], ...)\n",
            "2. tryCatch(withCallingHandlers({\n",
            " .     if (!mime %in% names(repr::mime2repr)) \n",
            " .         stop(\"No repr_* for mimetype \", mime, \" in repr::mime2repr\")\n",
            " .     rpr <- repr::mime2repr[[mime]](obj)\n",
            " .     if (is.null(rpr)) \n",
            " .         return(NULL)\n",
            " .     prepare_content(is.raw(rpr), rpr)\n",
            " . }, error = error_handler), error = outer_handler)\n",
            "3. tryCatchList(expr, classes, parentenv, handlers)\n",
            "4. tryCatchOne(expr, names, parentenv, handlers[[1L]])\n",
            "5. doTryCatch(return(expr), name, parentenv, handler)\n",
            "6. withCallingHandlers({\n",
            " .     if (!mime %in% names(repr::mime2repr)) \n",
            " .         stop(\"No repr_* for mimetype \", mime, \" in repr::mime2repr\")\n",
            " .     rpr <- repr::mime2repr[[mime]](obj)\n",
            " .     if (is.null(rpr)) \n",
            " .         return(NULL)\n",
            " .     prepare_content(is.raw(rpr), rpr)\n",
            " . }, error = error_handler)\n",
            "7. repr::mime2repr[[mime]](obj)\n",
            "8. repr_html.list(obj)\n",
            "9. repr_list_generic(obj, \"html\", \"\\t<li>%s</li>\\n\", \"\\t<dt>$%s</dt>\\n\\t\\t<dd>%s</dd>\\n\", \n",
            " .     \"<strong>$%s</strong> = %s\", \"<ol>\\n%s</ol>\\n\", \"<dl>\\n%s</dl>\\n\", \n",
            " .     numeric_item = \"\\t<dt>[[%s]]</dt>\\n\\t\\t<dd>%s</dd>\\n\", escape_fun = html_escape)\n",
            "10. lapply(vec, format2repr[[fmt]])\n",
            "11. X[[i]]\n",
            "12. `[[.corpus`(X, i)\n",
            "13. x$documents[i, ...]\n",
            "14. `[.data.frame`(x$documents, i, ...)\n",
            "15. stop(\"undefined columns selected\")\n",
            "Warning message:\n",
            "“'[[.corpus' is deprecated.\n",
            "Use 'docvars' instead.\n",
            "See help(\"Deprecated\")”Warning message:\n",
            "“'[[.corpus' is deprecated.\n",
            "Use 'docvars' instead.\n",
            "See help(\"Deprecated\")”Warning message:\n",
            "“'[[.corpus' is deprecated.\n",
            "Use 'docvars' instead.\n",
            "See help(\"Deprecated\")”ERROR while rich displaying an object: Error in `[.data.frame`(x$documents, i, ...): undefined columns selected\n",
            "\n",
            "Traceback:\n",
            "1. FUN(X[[i]], ...)\n",
            "2. tryCatch(withCallingHandlers({\n",
            " .     if (!mime %in% names(repr::mime2repr)) \n",
            " .         stop(\"No repr_* for mimetype \", mime, \" in repr::mime2repr\")\n",
            " .     rpr <- repr::mime2repr[[mime]](obj)\n",
            " .     if (is.null(rpr)) \n",
            " .         return(NULL)\n",
            " .     prepare_content(is.raw(rpr), rpr)\n",
            " . }, error = error_handler), error = outer_handler)\n",
            "3. tryCatchList(expr, classes, parentenv, handlers)\n",
            "4. tryCatchOne(expr, names, parentenv, handlers[[1L]])\n",
            "5. doTryCatch(return(expr), name, parentenv, handler)\n",
            "6. withCallingHandlers({\n",
            " .     if (!mime %in% names(repr::mime2repr)) \n",
            " .         stop(\"No repr_* for mimetype \", mime, \" in repr::mime2repr\")\n",
            " .     rpr <- repr::mime2repr[[mime]](obj)\n",
            " .     if (is.null(rpr)) \n",
            " .         return(NULL)\n",
            " .     prepare_content(is.raw(rpr), rpr)\n",
            " . }, error = error_handler)\n",
            "7. repr::mime2repr[[mime]](obj)\n",
            "8. repr_markdown.list(obj)\n",
            "9. repr_list_generic(obj, \"markdown\", \"%s. %s\\n\", \"$%s\\n:   %s\\n\", \n",
            " .     \"**$%s** = %s\", \"%s\\n\\n\", numeric_item = \"[[%s]]\\n:   %s\\n\", \n",
            " .     item_uses_numbers = TRUE, escape_fun = html_escape)\n",
            "10. lapply(vec, format2repr[[fmt]])\n",
            "11. X[[i]]\n",
            "12. `[[.corpus`(X, i)\n",
            "13. x$documents[i, ...]\n",
            "14. `[.data.frame`(x$documents, i, ...)\n",
            "15. stop(\"undefined columns selected\")\n",
            "Warning message:\n",
            "“'[[.corpus' is deprecated.\n",
            "Use 'docvars' instead.\n",
            "See help(\"Deprecated\")”Warning message:\n",
            "“'[[.corpus' is deprecated.\n",
            "Use 'docvars' instead.\n",
            "See help(\"Deprecated\")”Warning message:\n",
            "“'[[.corpus' is deprecated.\n",
            "Use 'docvars' instead.\n",
            "See help(\"Deprecated\")”ERROR while rich displaying an object: Error in `[.data.frame`(x$documents, i, ...): undefined columns selected\n",
            "\n",
            "Traceback:\n",
            "1. FUN(X[[i]], ...)\n",
            "2. tryCatch(withCallingHandlers({\n",
            " .     if (!mime %in% names(repr::mime2repr)) \n",
            " .         stop(\"No repr_* for mimetype \", mime, \" in repr::mime2repr\")\n",
            " .     rpr <- repr::mime2repr[[mime]](obj)\n",
            " .     if (is.null(rpr)) \n",
            " .         return(NULL)\n",
            " .     prepare_content(is.raw(rpr), rpr)\n",
            " . }, error = error_handler), error = outer_handler)\n",
            "3. tryCatchList(expr, classes, parentenv, handlers)\n",
            "4. tryCatchOne(expr, names, parentenv, handlers[[1L]])\n",
            "5. doTryCatch(return(expr), name, parentenv, handler)\n",
            "6. withCallingHandlers({\n",
            " .     if (!mime %in% names(repr::mime2repr)) \n",
            " .         stop(\"No repr_* for mimetype \", mime, \" in repr::mime2repr\")\n",
            " .     rpr <- repr::mime2repr[[mime]](obj)\n",
            " .     if (is.null(rpr)) \n",
            " .         return(NULL)\n",
            " .     prepare_content(is.raw(rpr), rpr)\n",
            " . }, error = error_handler)\n",
            "7. repr::mime2repr[[mime]](obj)\n",
            "8. repr_latex.list(obj)\n",
            "9. repr_list_generic(obj, \"latex\", \"\\\\item %s\\n\", \"\\\\item[\\\\$%s] %s\\n\", \n",
            " .     \"\\\\textbf{\\\\$%s} = %s\", enum_wrap = \"\\\\begin{enumerate}\\n%s\\\\end{enumerate}\\n\", \n",
            " .     named_wrap = \"\\\\begin{description}\\n%s\\\\end{description}\\n\", \n",
            " .     numeric_item = \"\\\\item[{[[%s]]}] %s\\n\", escape_fun = latex_escape)\n",
            "10. lapply(vec, format2repr[[fmt]])\n",
            "11. X[[i]]\n",
            "12. `[[.corpus`(X, i)\n",
            "13. x$documents[i, ...]\n",
            "14. `[.data.frame`(x$documents, i, ...)\n",
            "15. stop(\"undefined columns selected\")\n"
          ],
          "name": "stderr"
        },
        {
          "output_type": "display_data",
          "data": {
            "text/plain": [
              "Corpus consisting of 37,028 documents and 1 docvar."
            ]
          },
          "metadata": {
            "tags": []
          }
        },
        {
          "output_type": "stream",
          "text": [
            "Creating a dfm from a tokens input...\n",
            "   ... lowercasing\n",
            "   ... found 37,028 documents, 6,795 features\n",
            "   ... created a 37,028 x 6,795 sparse dfm\n",
            "   ... complete. \n",
            "Elapsed time: 0.112 seconds.\n"
          ],
          "name": "stderr"
        }
      ]
    },
    {
      "cell_type": "code",
      "metadata": {
        "id": "OwYUROuYadXJ",
        "colab_type": "code",
        "colab": {}
      },
      "source": [
        "glove <- GlobalVectors$new(word_vectors_size = 50, vocabulary = featnames(sms_fcm), x_max = 10)\n",
        "sms_word_vectors <- fit_transform(sms_fcm, glove, n_iter = 0.90)"
      ],
      "execution_count": 0,
      "outputs": []
    },
    {
      "cell_type": "code",
      "metadata": {
        "id": "0bvRu0YJaf-X",
        "colab_type": "code",
        "colab": {}
      },
      "source": [
        "sms_word_vectors %<>% as.data.frame() %>%\n",
        "  rownames_to_column(var = \"word\") %>% \n",
        "  as_tibble()\n"
      ],
      "execution_count": 0,
      "outputs": []
    },
    {
      "cell_type": "code",
      "metadata": {
        "id": "W5dOZ5ZGaiAV",
        "colab_type": "code",
        "colab": {
          "base_uri": "https://localhost:8080/",
          "height": 224
        },
        "outputId": "02c3f53d-996d-4d85-81e0-704d72e40c4f"
      },
      "source": [
        "sms_word_vectors %>% head()"
      ],
      "execution_count": 17,
      "outputs": [
        {
          "output_type": "display_data",
          "data": {
            "text/plain": [
              "  word   V1          V2          V3         V4           V5          \n",
              "1 jurong -0.25437078 -0.07510546  0.1610151 -0.007400527 -0.186215445\n",
              "2 crazi   0.07572033 -0.14359562 -0.2596721 -0.327485412  0.046596766\n",
              "3 bugi   -0.17439535 -0.16559309 -0.3670309  0.001198952 -0.357650161\n",
              "4 world   0.14749026 -0.48409262 -0.2858688  0.154734373  0.411302745\n",
              "5 la     -0.07439323 -0.49457532  0.1135033 -0.415027738 -0.466333270\n",
              "6 buffet -0.24009825 -0.42984524  0.3498144  0.085171357 -0.002180582\n",
              "  V6          V7          V8          V9           ⋯ V41        V42        \n",
              "1  0.37266535  0.05508992 -0.05834907 -0.221634760 ⋯  0.2235631  0.12294930\n",
              "2 -0.20204933  0.19173227 -0.06947790  0.004112659 ⋯ -0.2693185 -0.44963560\n",
              "3  0.17671950  0.33942410  0.45690334 -0.449809641 ⋯ -0.4212098  0.01610508\n",
              "4 -0.33810228 -0.14768428 -0.33317426 -0.479534179 ⋯ -0.1746077  0.42417276\n",
              "5  0.09332709 -0.31998470 -0.31652245 -0.472731471 ⋯  0.4572858 -0.10330486\n",
              "6  0.18949229 -0.35383749  0.49486953  0.310745090 ⋯  0.2529903 -0.49568519\n",
              "  V43        V44        V45         V46         V47         V48        \n",
              "1 -0.3150425 -0.1955347 -0.40406820  0.45834967  0.09548289  0.32235420\n",
              "2  0.2956448  0.2456707  0.15092823  0.03527993 -0.01917049 -0.49490604\n",
              "3 -0.4956923  0.3026210 -0.30883127  0.36440337  0.23972128  0.20294061\n",
              "4 -0.1118214  0.2445628 -0.26617247 -0.03996330  0.44077295 -0.11049783\n",
              "5  0.3993714 -0.2516550 -0.19140580 -0.03114243 -0.21858446  0.06851213\n",
              "6  0.1054294  0.3868899 -0.00496874 -0.10110723  0.14349030  0.26020548\n",
              "  V49        V50        \n",
              "1  0.3094678  0.41186592\n",
              "2  0.3842939 -0.25377664\n",
              "3  0.3330303  0.01262574\n",
              "4 -0.2414070  0.47678185\n",
              "5  0.1554995  0.37878606\n",
              "6  0.1203069 -0.07930529"
            ],
            "text/latex": "A tibble: 6 × 51\n\\begin{tabular}{r|lllllllllllllllllllllllllllllllllllllllllllllllllll}\n word & V1 & V2 & V3 & V4 & V5 & V6 & V7 & V8 & V9 & V10 & V11 & V12 & V13 & V14 & V15 & V16 & V17 & V18 & V19 & V20 & V21 & V22 & V23 & V24 & V25 & V26 & V27 & V28 & V29 & V30 & V31 & V32 & V33 & V34 & V35 & V36 & V37 & V38 & V39 & V40 & V41 & V42 & V43 & V44 & V45 & V46 & V47 & V48 & V49 & V50\\\\\n <chr> & <dbl> & <dbl> & <dbl> & <dbl> & <dbl> & <dbl> & <dbl> & <dbl> & <dbl> & <dbl> & <dbl> & <dbl> & <dbl> & <dbl> & <dbl> & <dbl> & <dbl> & <dbl> & <dbl> & <dbl> & <dbl> & <dbl> & <dbl> & <dbl> & <dbl> & <dbl> & <dbl> & <dbl> & <dbl> & <dbl> & <dbl> & <dbl> & <dbl> & <dbl> & <dbl> & <dbl> & <dbl> & <dbl> & <dbl> & <dbl> & <dbl> & <dbl> & <dbl> & <dbl> & <dbl> & <dbl> & <dbl> & <dbl> & <dbl> & <dbl>\\\\\n\\hline\n\t jurong & -0.25437078 & -0.07510546 &  0.1610151 & -0.007400527 & -0.186215445 &  0.37266535 &  0.05508992 & -0.05834907 & -0.221634760 & 0.09251957 &  0.2306368 & -0.27729490 &  0.21521166 & -0.27440909 &  0.1947412 & -0.4709775 &  0.3532415 & -0.06974788 & -0.40528941 & -0.35188854 &  0.4464703 &  0.30716917 & -0.38707680 &  0.44025528 &  0.2963982 & -0.38899797 & -0.3360676 & -0.15152253 & -0.36024466 &  0.2620242 &  0.4717525 &  0.1972488 & -0.35243562 &  0.18586147 & -0.13515198 & -0.4897525 &  0.25557345 &  0.2074003 & -0.04655512 &  0.12015729 &  0.2235631 &  0.12294930 & -0.3150425 & -0.1955347 & -0.40406820 &  0.45834967 &  0.09548289 &  0.32235420 &  0.3094678 &  0.41186592\\\\\n\t crazi  &  0.07572033 & -0.14359562 & -0.2596721 & -0.327485412 &  0.046596766 & -0.20204933 &  0.19173227 & -0.06947790 &  0.004112659 & 0.49710828 & -0.3975488 &  0.34874541 & -0.10378051 & -0.15522917 & -0.3304758 &  0.4523899 & -0.2545362 &  0.41923097 & -0.02961819 & -0.05780888 &  0.2734399 & -0.01385872 & -0.04146095 & -0.12088361 &  0.3061591 &  0.08311354 & -0.1784481 & -0.07525601 &  0.17122711 &  0.4268464 & -0.1814863 &  0.1935751 & -0.10400221 &  0.19894691 &  0.43769050 & -0.3073205 & -0.09886364 & -0.1468046 &  0.43164712 &  0.08725089 & -0.2693185 & -0.44963560 &  0.2956448 &  0.2456707 &  0.15092823 &  0.03527993 & -0.01917049 & -0.49490604 &  0.3842939 & -0.25377664\\\\\n\t bugi   & -0.17439535 & -0.16559309 & -0.3670309 &  0.001198952 & -0.357650161 &  0.17671950 &  0.33942410 &  0.45690334 & -0.449809641 & 0.43856281 &  0.2180947 &  0.06152527 & -0.06658278 &  0.28678906 & -0.3225630 & -0.2364027 & -0.2917068 &  0.04784652 & -0.35125470 & -0.13989440 & -0.3933575 & -0.39040729 & -0.17932402 &  0.03436967 & -0.2649869 & -0.23926643 &  0.4491858 & -0.03964226 &  0.28470072 & -0.1378060 & -0.1590601 & -0.3934063 & -0.32262868 &  0.17926249 &  0.41688079 & -0.1074458 &  0.45944363 & -0.4232965 & -0.15669231 & -0.08230989 & -0.4212098 &  0.01610508 & -0.4956923 &  0.3026210 & -0.30883127 &  0.36440337 &  0.23972128 &  0.20294061 &  0.3330303 &  0.01262574\\\\\n\t world  &  0.14749026 & -0.48409262 & -0.2858688 &  0.154734373 &  0.411302745 & -0.33810228 & -0.14768428 & -0.33317426 & -0.479534179 & 0.13829634 &  0.2024328 & -0.30188921 & -0.29387414 & -0.31370220 &  0.1715427 & -0.2140026 &  0.2287211 &  0.03454394 &  0.40578693 & -0.01308476 &  0.3829253 & -0.18496174 &  0.09828397 & -0.23550045 &  0.3709549 & -0.32768658 &  0.4499374 &  0.06097016 & -0.05684201 & -0.4823476 & -0.1099431 &  0.3496000 &  0.02823835 &  0.07417002 &  0.42741519 &  0.3342982 &  0.13649149 & -0.4598689 & -0.40353242 &  0.20501816 & -0.1746077 &  0.42417276 & -0.1118214 &  0.2445628 & -0.26617247 & -0.03996330 &  0.44077295 & -0.11049783 & -0.2414070 &  0.47678185\\\\\n\t la     & -0.07439323 & -0.49457532 &  0.1135033 & -0.415027738 & -0.466333270 &  0.09332709 & -0.31998470 & -0.31652245 & -0.472731471 & 0.22535443 & -0.1442983 & -0.49973077 & -0.18985818 &  0.22119556 & -0.4283567 & -0.3746271 & -0.3809453 & -0.14521059 &  0.23949295 & -0.13880049 & -0.1499360 &  0.08792281 & -0.08592075 & -0.24518101 &  0.4325623 &  0.03764271 &  0.4194631 &  0.30373728 &  0.38029304 &  0.2167088 & -0.3651870 & -0.2118977 &  0.44252953 & -0.16572702 & -0.35243249 &  0.4516633 &  0.10579615 &  0.4336496 & -0.31910446 & -0.28013009 &  0.4572858 & -0.10330486 &  0.3993714 & -0.2516550 & -0.19140580 & -0.03114243 & -0.21858446 &  0.06851213 &  0.1554995 &  0.37878606\\\\\n\t buffet & -0.24009825 & -0.42984524 &  0.3498144 &  0.085171357 & -0.002180582 &  0.18949229 & -0.35383749 &  0.49486953 &  0.310745090 & 0.13524066 & -0.3038130 &  0.07623813 & -0.28751603 & -0.09812702 &  0.1277222 & -0.4845765 & -0.4060414 &  0.36258277 & -0.40622392 & -0.22314313 & -0.4368100 &  0.43632779 & -0.08777254 &  0.36604923 &  0.4439439 &  0.14767224 & -0.2953614 &  0.36830145 &  0.36277553 &  0.3446662 & -0.3236643 &  0.4243499 &  0.43149200 & -0.10953209 &  0.04651872 &  0.2635002 & -0.44609463 & -0.2795605 &  0.23846981 &  0.06810979 &  0.2529903 & -0.49568519 &  0.1054294 &  0.3868899 & -0.00496874 & -0.10110723 &  0.14349030 &  0.26020548 &  0.1203069 & -0.07930529\\\\\n\\end{tabular}\n",
            "text/markdown": "\nA tibble: 6 × 51\n\n| word &lt;chr&gt; | V1 &lt;dbl&gt; | V2 &lt;dbl&gt; | V3 &lt;dbl&gt; | V4 &lt;dbl&gt; | V5 &lt;dbl&gt; | V6 &lt;dbl&gt; | V7 &lt;dbl&gt; | V8 &lt;dbl&gt; | V9 &lt;dbl&gt; | ⋯ ⋯ | V41 &lt;dbl&gt; | V42 &lt;dbl&gt; | V43 &lt;dbl&gt; | V44 &lt;dbl&gt; | V45 &lt;dbl&gt; | V46 &lt;dbl&gt; | V47 &lt;dbl&gt; | V48 &lt;dbl&gt; | V49 &lt;dbl&gt; | V50 &lt;dbl&gt; |\n|---|---|---|---|---|---|---|---|---|---|---|---|---|---|---|---|---|---|---|---|---|\n| jurong | -0.25437078 | -0.07510546 |  0.1610151 | -0.007400527 | -0.186215445 |  0.37266535 |  0.05508992 | -0.05834907 | -0.221634760 | ⋯ |  0.2235631 |  0.12294930 | -0.3150425 | -0.1955347 | -0.40406820 |  0.45834967 |  0.09548289 |  0.32235420 |  0.3094678 |  0.41186592 |\n| crazi  |  0.07572033 | -0.14359562 | -0.2596721 | -0.327485412 |  0.046596766 | -0.20204933 |  0.19173227 | -0.06947790 |  0.004112659 | ⋯ | -0.2693185 | -0.44963560 |  0.2956448 |  0.2456707 |  0.15092823 |  0.03527993 | -0.01917049 | -0.49490604 |  0.3842939 | -0.25377664 |\n| bugi   | -0.17439535 | -0.16559309 | -0.3670309 |  0.001198952 | -0.357650161 |  0.17671950 |  0.33942410 |  0.45690334 | -0.449809641 | ⋯ | -0.4212098 |  0.01610508 | -0.4956923 |  0.3026210 | -0.30883127 |  0.36440337 |  0.23972128 |  0.20294061 |  0.3330303 |  0.01262574 |\n| world  |  0.14749026 | -0.48409262 | -0.2858688 |  0.154734373 |  0.411302745 | -0.33810228 | -0.14768428 | -0.33317426 | -0.479534179 | ⋯ | -0.1746077 |  0.42417276 | -0.1118214 |  0.2445628 | -0.26617247 | -0.03996330 |  0.44077295 | -0.11049783 | -0.2414070 |  0.47678185 |\n| la     | -0.07439323 | -0.49457532 |  0.1135033 | -0.415027738 | -0.466333270 |  0.09332709 | -0.31998470 | -0.31652245 | -0.472731471 | ⋯ |  0.4572858 | -0.10330486 |  0.3993714 | -0.2516550 | -0.19140580 | -0.03114243 | -0.21858446 |  0.06851213 |  0.1554995 |  0.37878606 |\n| buffet | -0.24009825 | -0.42984524 |  0.3498144 |  0.085171357 | -0.002180582 |  0.18949229 | -0.35383749 |  0.49486953 |  0.310745090 | ⋯ |  0.2529903 | -0.49568519 |  0.1054294 |  0.3868899 | -0.00496874 | -0.10110723 |  0.14349030 |  0.26020548 |  0.1203069 | -0.07930529 |\n\n",
            "text/html": [
              "<table>\n",
              "<caption>A tibble: 6 × 51</caption>\n",
              "<thead>\n",
              "\t<tr><th scope=col>word</th><th scope=col>V1</th><th scope=col>V2</th><th scope=col>V3</th><th scope=col>V4</th><th scope=col>V5</th><th scope=col>V6</th><th scope=col>V7</th><th scope=col>V8</th><th scope=col>V9</th><th scope=col>⋯</th><th scope=col>V41</th><th scope=col>V42</th><th scope=col>V43</th><th scope=col>V44</th><th scope=col>V45</th><th scope=col>V46</th><th scope=col>V47</th><th scope=col>V48</th><th scope=col>V49</th><th scope=col>V50</th></tr>\n",
              "\t<tr><th scope=col>&lt;chr&gt;</th><th scope=col>&lt;dbl&gt;</th><th scope=col>&lt;dbl&gt;</th><th scope=col>&lt;dbl&gt;</th><th scope=col>&lt;dbl&gt;</th><th scope=col>&lt;dbl&gt;</th><th scope=col>&lt;dbl&gt;</th><th scope=col>&lt;dbl&gt;</th><th scope=col>&lt;dbl&gt;</th><th scope=col>&lt;dbl&gt;</th><th scope=col>⋯</th><th scope=col>&lt;dbl&gt;</th><th scope=col>&lt;dbl&gt;</th><th scope=col>&lt;dbl&gt;</th><th scope=col>&lt;dbl&gt;</th><th scope=col>&lt;dbl&gt;</th><th scope=col>&lt;dbl&gt;</th><th scope=col>&lt;dbl&gt;</th><th scope=col>&lt;dbl&gt;</th><th scope=col>&lt;dbl&gt;</th><th scope=col>&lt;dbl&gt;</th></tr>\n",
              "</thead>\n",
              "<tbody>\n",
              "\t<tr><td>jurong</td><td>-0.25437078</td><td>-0.07510546</td><td> 0.1610151</td><td>-0.007400527</td><td>-0.186215445</td><td> 0.37266535</td><td> 0.05508992</td><td>-0.05834907</td><td>-0.221634760</td><td>⋯</td><td> 0.2235631</td><td> 0.12294930</td><td>-0.3150425</td><td>-0.1955347</td><td>-0.40406820</td><td> 0.45834967</td><td> 0.09548289</td><td> 0.32235420</td><td> 0.3094678</td><td> 0.41186592</td></tr>\n",
              "\t<tr><td>crazi </td><td> 0.07572033</td><td>-0.14359562</td><td>-0.2596721</td><td>-0.327485412</td><td> 0.046596766</td><td>-0.20204933</td><td> 0.19173227</td><td>-0.06947790</td><td> 0.004112659</td><td>⋯</td><td>-0.2693185</td><td>-0.44963560</td><td> 0.2956448</td><td> 0.2456707</td><td> 0.15092823</td><td> 0.03527993</td><td>-0.01917049</td><td>-0.49490604</td><td> 0.3842939</td><td>-0.25377664</td></tr>\n",
              "\t<tr><td>bugi  </td><td>-0.17439535</td><td>-0.16559309</td><td>-0.3670309</td><td> 0.001198952</td><td>-0.357650161</td><td> 0.17671950</td><td> 0.33942410</td><td> 0.45690334</td><td>-0.449809641</td><td>⋯</td><td>-0.4212098</td><td> 0.01610508</td><td>-0.4956923</td><td> 0.3026210</td><td>-0.30883127</td><td> 0.36440337</td><td> 0.23972128</td><td> 0.20294061</td><td> 0.3330303</td><td> 0.01262574</td></tr>\n",
              "\t<tr><td>world </td><td> 0.14749026</td><td>-0.48409262</td><td>-0.2858688</td><td> 0.154734373</td><td> 0.411302745</td><td>-0.33810228</td><td>-0.14768428</td><td>-0.33317426</td><td>-0.479534179</td><td>⋯</td><td>-0.1746077</td><td> 0.42417276</td><td>-0.1118214</td><td> 0.2445628</td><td>-0.26617247</td><td>-0.03996330</td><td> 0.44077295</td><td>-0.11049783</td><td>-0.2414070</td><td> 0.47678185</td></tr>\n",
              "\t<tr><td>la    </td><td>-0.07439323</td><td>-0.49457532</td><td> 0.1135033</td><td>-0.415027738</td><td>-0.466333270</td><td> 0.09332709</td><td>-0.31998470</td><td>-0.31652245</td><td>-0.472731471</td><td>⋯</td><td> 0.4572858</td><td>-0.10330486</td><td> 0.3993714</td><td>-0.2516550</td><td>-0.19140580</td><td>-0.03114243</td><td>-0.21858446</td><td> 0.06851213</td><td> 0.1554995</td><td> 0.37878606</td></tr>\n",
              "\t<tr><td>buffet</td><td>-0.24009825</td><td>-0.42984524</td><td> 0.3498144</td><td> 0.085171357</td><td>-0.002180582</td><td> 0.18949229</td><td>-0.35383749</td><td> 0.49486953</td><td> 0.310745090</td><td>⋯</td><td> 0.2529903</td><td>-0.49568519</td><td> 0.1054294</td><td> 0.3868899</td><td>-0.00496874</td><td>-0.10110723</td><td> 0.14349030</td><td> 0.26020548</td><td> 0.1203069</td><td>-0.07930529</td></tr>\n",
              "</tbody>\n",
              "</table>\n"
            ]
          },
          "metadata": {
            "tags": []
          }
        }
      ]
    },
    {
      "cell_type": "markdown",
      "metadata": {
        "id": "21L4sb5famja",
        "colab_type": "text"
      },
      "source": [
        "# -----------------------"
      ]
    },
    {
      "cell_type": "markdown",
      "metadata": {
        "id": "cuOIij0nGI9S",
        "colab_type": "text"
      },
      "source": [
        "# LSA"
      ]
    },
    {
      "cell_type": "code",
      "metadata": {
        "id": "MEsUaglMASsb",
        "colab_type": "code",
        "colab": {
          "base_uri": "https://localhost:8080/",
          "height": 173
        },
        "outputId": "4198e62e-828c-4ccb-f385-a5dedad0c72f"
      },
      "source": [
        "pacman::p_load(text2vec,topicmodels)"
      ],
      "execution_count": 18,
      "outputs": [
        {
          "output_type": "stream",
          "text": [
            "Installing package into ‘/usr/local/lib/R/site-library’\n",
            "(as ‘lib’ is unspecified)\n",
            "Warning message in utils::install.packages(package, ...):\n",
            "“installation of package ‘topicmodels’ had non-zero exit status”Warning message in p_install(package, character.only = TRUE, ...):\n",
            "“”Warning message in library(package, lib.loc = lib.loc, character.only = TRUE, logical.return = TRUE, :\n",
            "“there is no package called ‘topicmodels’”Warning message in pacman::p_load(text2vec, topicmodels):\n",
            "“Failed to install/load:\n",
            "topicmodels”"
          ],
          "name": "stderr"
        }
      ]
    },
    {
      "cell_type": "code",
      "metadata": {
        "id": "aYZS7gfksmfW",
        "colab_type": "code",
        "colab": {
          "base_uri": "https://localhost:8080/",
          "height": 248
        },
        "outputId": "d7473176-3576-4d4b-c653-4d448e494cec"
      },
      "source": [
        "lda = sparse %>%   LDA(k = 2, method = \"Gibbs\", control = list(seed = 1337))\n",
        "\n",
        "\n",
        "lda_beta <- lda %>%\n",
        "  tidy(matrix = \"beta\") %>%\n",
        "  group_by(topic) %>%\n",
        "  arrange(topic, desc(beta)) %>%\n",
        "  slice(1:10) %>%\n",
        "  ungroup()\n",
        "\n",
        "lda_beta %>% head()\n",
        "\n",
        "lda_beta %>%\n",
        "  mutate(term = reorder_within(term, beta, topic)) %>%\n",
        "  group_by(topic, term) %>%\n",
        "  arrange(desc(beta)) %>%\n",
        "  ungroup() %>%\n",
        "  ggplot(aes(term, beta, fill = as.factor(topic))) +\n",
        "  geom_col(show.legend = FALSE) +\n",
        "  coord_flip() +\n",
        "  scale_x_reordered() +\n",
        "  labs(title = \"Top 10 terms in each LDA topic\",\n",
        "       x = NULL, y = expression(beta)) +\n",
        "  facet_wrap(~ topic, ncol = 2, scales = \"free\")"
      ],
      "execution_count": 19,
      "outputs": [
        {
          "output_type": "error",
          "ename": "ERROR",
          "evalue": "ignored",
          "traceback": [
            "Error in LDA(., k = 2, method = \"Gibbs\", control = list(seed = 1337)): could not find function \"LDA\"\nTraceback:\n",
            "1. sparse %>% LDA(k = 2, method = \"Gibbs\", control = list(seed = 1337))",
            "2. withVisible(eval(quote(`_fseq`(`_lhs`)), env, env))",
            "3. eval(quote(`_fseq`(`_lhs`)), env, env)",
            "4. eval(quote(`_fseq`(`_lhs`)), env, env)",
            "5. `_fseq`(`_lhs`)",
            "6. freduce(value, `_function_list`)",
            "7. withVisible(function_list[[k]](value))",
            "8. function_list[[k]](value)"
          ]
        }
      ]
    },
    {
      "cell_type": "markdown",
      "metadata": {
        "id": "-CpWAWKSvDvT",
        "colab_type": "text"
      },
      "source": [
        "## Supervised / Unsupervised ML"
      ]
    },
    {
      "cell_type": "markdown",
      "metadata": {
        "id": "5Foc4CxevTb0",
        "colab_type": "text"
      },
      "source": [
        "After making a dimensionality reduction with a corresponding train and test set, it is now time to construct models to predict whether a message is \"ham\" or \"spam\". The models will use the value of each word from the dimensionality reduction matrix to determine if a message is spam or not. The first model that will be constructed is a Generalized Linear Model, where the prediction is modeled as a weighted sum of the features. We construct the model below:"
      ]
    },
    {
      "cell_type": "markdown",
      "metadata": {
        "id": "v4jMGauPDBVL",
        "colab_type": "text"
      },
      "source": [
        "After constructing the GLM model, it is time to test the model on the actual test dataset which we created earlier. "
      ]
    },
    {
      "cell_type": "markdown",
      "metadata": {
        "id": "nQgqEvjODZyM",
        "colab_type": "text"
      },
      "source": [
        "We continue to present the results in an actual confusion matrix to make it more presentable."
      ]
    },
    {
      "cell_type": "markdown",
      "metadata": {
        "id": "FHVZD9g1DwXJ",
        "colab_type": "text"
      },
      "source": [
        "GLM seems to be an ineffective model for predicting spam messages versus normal messages. The overall accuracy is 0.69% which is significantly low. The model classified xxx ham messages incorrectly as spam messages and determined xxx spam messages to be ham messages. A better and more suitable model is needed for this type of classification and therefore we try constructing a decision tree model  "
      ]
    },
    {
      "cell_type": "markdown",
      "metadata": {
        "id": "J3L5rqKLFUzK",
        "colab_type": "text"
      },
      "source": [
        "After construction the model we test it on the same test dataset and present the results."
      ]
    },
    {
      "cell_type": "markdown",
      "metadata": {
        "id": "HMHZoZpQFfmf",
        "colab_type": "text"
      },
      "source": [
        "Decision Tree appears to be a more accurate and stable model with a high accuracy on 95%. This is significantly better then the previous GLM model and we can observe the model only classified xxx SMS messages incorrectly. Alternatively we could try constructing a random forest model which is a more advanced model compared to the original decision tree. Random forest, like its name implies, consists of a large number of individual decision trees that operate as an ensemble. Each individual tree in the random forest spits out a class prediction and the class with the most votes becomes our model’s prediction. We construct the model below and print out the results"
      ]
    },
    {
      "cell_type": "markdown",
      "metadata": {
        "id": "rneArh8tMEzS",
        "colab_type": "text"
      },
      "source": [
        "The Random Forest model is the most accurate model with a accuracy on 96.22% beating both the decision tree and GLM model. "
      ]
    },
    {
      "cell_type": "code",
      "metadata": {
        "id": "91xWJj0oHMcJ",
        "colab_type": "code",
        "colab": {}
      },
      "source": [
        ""
      ],
      "execution_count": 0,
      "outputs": []
    },
    {
      "cell_type": "code",
      "metadata": {
        "id": "WDDfjyWTC8Zz",
        "colab_type": "code",
        "colab": {}
      },
      "source": [
        ""
      ],
      "execution_count": 0,
      "outputs": []
    },
    {
      "cell_type": "code",
      "metadata": {
        "id": "eXFrW8SPC0SU",
        "colab_type": "code",
        "colab": {}
      },
      "source": [
        ""
      ],
      "execution_count": 0,
      "outputs": []
    },
    {
      "cell_type": "code",
      "metadata": {
        "id": "9372aszPxHQM",
        "colab_type": "code",
        "colab": {}
      },
      "source": [
        "pacman::p_load(caret,irlba)\n",
        "\n",
        "\n",
        "# Use caret to create a 70%/30% stratified split. Set the random\n",
        "# seed for reproducibility.\n",
        "set.seed(32984)\n",
        "indexes <- createDataPartition(as.factor(SMSspam$ham_spam), times = 1,\n",
        "                               p = 0.7, list = FALSE)\n",
        "\n",
        "train <- SMSspam[indexes,]\n",
        "test <- SMSspam[-indexes,]\n",
        "\n",
        "\n"
      ],
      "execution_count": 0,
      "outputs": []
    },
    {
      "cell_type": "code",
      "metadata": {
        "id": "Ec8OtTnZzJyY",
        "colab_type": "code",
        "colab": {}
      },
      "source": [
        "train_tokens = tokens(train$SMS, what = \"word\", \n",
        "                remove_numbers = TRUE, remove_punct = TRUE,\n",
        "                remove_symbols = TRUE, remove_hyphens = TRUE)\n",
        "train_tokens %>% head()\n",
        "\n",
        "train_tokens = tokens_tolower(train_tokens)\n",
        "\n",
        "\n",
        "train_tokens = tokens_select(train_tokens, stopwords(), \n",
        "                       selection = \"remove\")\n",
        "train_tokens %>% head()\n",
        "\n",
        "train_tokens = tokens_wordstem(train_tokens, language = \"english\")\n",
        "\n",
        "train_tokens %>% head()\n",
        "\n",
        "train_tokens.dfm <- dfm(train_tokens, tolower = FALSE)\n",
        "train_tokens.dfm %>% head()\n",
        "\n",
        "train_tokens.matrix <- as.matrix(train_tokens.dfm)\n",
        "train_tokens.matrix %>% head()\n",
        "\n",
        "train_tokens.df <- cbind(Label = train$ham_spam, convert(train_tokens.dfm,to = \"data.frame\"))\n",
        "train_tokens.df\n",
        "\n",
        "\n"
      ],
      "execution_count": 0,
      "outputs": []
    },
    {
      "cell_type": "code",
      "metadata": {
        "id": "BneucF5azU43",
        "colab_type": "code",
        "colab": {}
      },
      "source": [
        "\n",
        "train_term.frequency <- function(row) {\n",
        "  row / sum(row)\n",
        "}\n",
        "\n",
        "\n",
        "train_inverse.doc.freq <- function(col) {\n",
        "  corpus.size <- length(col)\n",
        "  doc.count <- length(which(col > 0))\n",
        "  \n",
        "  log10(corpus.size / doc.count)\n",
        "}\n",
        "\n",
        "\n",
        "tf.idf <- function(x, idf) {\n",
        "  x * idf\n",
        "}\n",
        "\n",
        "train_tokens.df <- apply(train_tokens.matrix, 1, train_term.frequency)\n",
        "\n",
        "train_tokens.idf <- apply(train_tokens.matrix, 2, train_inverse.doc.freq)\n",
        "\n",
        "train_tokens.tfidf <-  apply(train_tokens.df, 2, tf.idf, idf = train_tokens.idf)\n",
        "\n",
        "train_tokens.tfidf <- t(train_tokens.tfidf)\n",
        "\n",
        "\n"
      ],
      "execution_count": 0,
      "outputs": []
    },
    {
      "cell_type": "code",
      "metadata": {
        "id": "WC6l5aZQzsqi",
        "colab_type": "code",
        "colab": {}
      },
      "source": [
        "train_incomplete.cases <- which(!complete.cases(train_tokens.tfidf))\n",
        "train$SMS[train_incomplete.cases]\n",
        "\n",
        "train_tokens.tfidf[train_incomplete.cases,] <- rep(0.0, ncol(train_tokens.tfidf))\n",
        "\n",
        "train_tokens.tfidf.df <- cbind(Label = train$ham_spam, data.frame(train_tokens.tfidf))\n",
        "\n",
        "train_tokens <- tokens_ngrams(train_tokens, n = 1:2)\n",
        "\n",
        "train_irlba <- irlba(t(train_tokens.tfidf), nv = 300, maxit = 600)\n",
        "\n",
        "\n",
        "train_sigma.inverse <- 1 / train_irlba$d\n",
        "train_u.transpose <- t(train_irlba$u)\n",
        "train_document <- train_tokens.tfidf[1,]\n",
        "train_document.hat <- train_sigma.inverse * train_u.transpose %*% train_document\n",
        "\n",
        "train_svd <- data.frame(Label = train$ham_spam, train_irlba$v)\n",
        "\n",
        "train_similarities <- cosine(t(as.matrix(train_svd[, -c(1, ncol(svd))])))\n",
        "pacman::p_load(lsa)\n",
        "\n",
        "train_spam.indexes <- which(train$ham_spam == \"spam\")\n",
        "\n",
        "train_svd$SpamSimilarity <- rep(0.0, nrow(train_svd))\n",
        "for(i in 1:nrow(train_svd)) {\n",
        "  train_svd$SpamSimilarity[i] <- mean(train_similarities[i, train_spam.indexes])  \n",
        "}"
      ],
      "execution_count": 0,
      "outputs": []
    },
    {
      "cell_type": "code",
      "metadata": {
        "id": "8xTNLaJdSaFw",
        "colab_type": "code",
        "colab": {}
      },
      "source": [
        "install.packages('e1071')"
      ],
      "execution_count": 0,
      "outputs": []
    },
    {
      "cell_type": "code",
      "metadata": {
        "id": "tWBPOgWvSeL_",
        "colab_type": "code",
        "colab": {}
      },
      "source": [
        "library(e1071)"
      ],
      "execution_count": 0,
      "outputs": []
    },
    {
      "cell_type": "code",
      "metadata": {
        "id": "_-Y9R0sD5Qqo",
        "colab_type": "code",
        "colab": {}
      },
      "source": [
        "set.seed(48743)\n",
        "cv.folds <- createMultiFolds(train$ham_spam, k = 10, times = 1)\n",
        "\n",
        "cv.cntrl <- trainControl(method = \"repeatedcv\", number = 10,\n",
        "                         repeats = 1, index = cv.folds)\n",
        "\n"
      ],
      "execution_count": 0,
      "outputs": []
    },
    {
      "cell_type": "code",
      "metadata": {
        "id": "1hw76jpb8fKP",
        "colab_type": "code",
        "colab": {}
      },
      "source": [
        "test_tokens = tokens(test$SMS, what = \"word\", \n",
        "                remove_numbers = TRUE, remove_punct = TRUE,\n",
        "                remove_symbols = TRUE, remove_hyphens = TRUE)\n",
        "test_tokens %>% head()\n",
        "\n",
        "test_tokens = tokens_tolower(test_tokens)\n",
        "\n",
        "\n",
        "test_tokens = tokens_select(test_tokens, stopwords(), \n",
        "                       selection = \"remove\")\n",
        "test_tokens %>% head()\n",
        "\n",
        "test_tokens = tokens_wordstem(test_tokens, language = \"english\")\n",
        "\n",
        "test_tokens %>% head()\n",
        "\n",
        "test_tokens.dfm <- dfm(test_tokens, tolower = FALSE)\n",
        "test_tokens.dfm %>% head()\n",
        "\n",
        "test_tokens.matrix <- as.matrix(test_tokens.dfm)\n",
        "test_tokens.matrix %>% head()\n",
        "\n",
        "test_tokens.df <- cbind(Label = test$ham_spam, convert(test_tokens.dfm,to = \"data.frame\"))\n",
        "test_tokens.df\n"
      ],
      "execution_count": 0,
      "outputs": []
    },
    {
      "cell_type": "code",
      "metadata": {
        "id": "WNvv3rvR8gNf",
        "colab_type": "code",
        "colab": {}
      },
      "source": [
        "test_term.frequency <- function(row) {\n",
        "  row / sum(row)\n",
        "}\n",
        "\n",
        "\n",
        "test_inverse.doc.freq <- function(col) {\n",
        "  corpus.size <- length(col)\n",
        "  doc.count <- length(which(col > 0))\n",
        "  \n",
        "  log10(corpus.size / doc.count)\n",
        "}\n",
        "\n",
        "\n",
        "tf.idf <- function(x, idf) {\n",
        "  x * idf\n",
        "}\n",
        "\n",
        "test_tokens.df <- apply(test_tokens.matrix, 1, test_term.frequency)\n",
        "\n",
        "test_tokens.idf <- apply(test_tokens.matrix, 2, test_inverse.doc.freq)\n",
        "\n",
        "test_tokens.tfidf <-  apply(test_tokens.df, 2, tf.idf, idf = test_tokens.idf)\n",
        "\n",
        "test_tokens.tfidf <- t(test_tokens.tfidf)\n"
      ],
      "execution_count": 0,
      "outputs": []
    },
    {
      "cell_type": "code",
      "metadata": {
        "id": "sfyxXQNu8rLN",
        "colab_type": "code",
        "colab": {}
      },
      "source": [
        "test_incomplete.cases <- which(!complete.cases(test_tokens.tfidf))\n",
        "test$SMS[test_incomplete.cases]\n",
        "\n",
        "test_tokens.tfidf[test_incomplete.cases,] <- rep(0.0, ncol(test_tokens.tfidf))\n",
        "\n",
        "test_tokens.tfidf.df <- cbind(Label = test$ham_spam, data.frame(test_tokens.tfidf))\n",
        "\n",
        "test_tokens <- tokens_ngrams(test_tokens, n = 1:2)\n",
        "\n",
        "test_irlba <- irlba(t(test_tokens.tfidf), nv = 300, maxit = 600)\n",
        "\n",
        "\n",
        "test_sigma.inverse <- 1 / test_irlba$d\n",
        "test_u.transpose <- t(test_irlba$u)\n",
        "test_document <- test_tokens.tfidf[1,]\n",
        "test_document.hat <- test_sigma.inverse * test_u.transpose %*% test_document\n",
        "\n",
        "test_svd <- data.frame(Label = test$ham_spam, test_irlba$v)\n",
        "\n",
        "test_similarities <- cosine(t(as.matrix(test_svd[, -c(1, ncol(svd))])))\n",
        "pacman::p_load(lsa)\n",
        "\n",
        "test_spam.indexes <- which(test$ham_spam == \"spam\")\n",
        "\n",
        "test_svd$SpamSimilarity <- rep(0.0, nrow(test_svd))\n",
        "for(i in 1:nrow(test_svd)) {\n",
        "  test_svd$SpamSimilarity[i] <- mean(test_similarities[i, test_spam.indexes])  \n",
        "}\n"
      ],
      "execution_count": 0,
      "outputs": []
    },
    {
      "cell_type": "code",
      "metadata": {
        "id": "5psbRMMRpd6G",
        "colab_type": "code",
        "colab": {}
      },
      "source": [
        "rpart.cv.4 <- train(Label ~ ., data = train_svd, method = \"rpart\", \n",
        "                    trControl = cv.cntrl, tuneLength = 7)\n"
      ],
      "execution_count": 0,
      "outputs": []
    },
    {
      "cell_type": "code",
      "metadata": {
        "id": "incRUmF1Q6zh",
        "colab_type": "code",
        "colab": {}
      },
      "source": [
        "rf.cv.1 <- train(Label ~ ., data = train_svd, method = \"rf\", \n",
        "                trControl = cv.cntrl, tuneLength = 7)"
      ],
      "execution_count": 0,
      "outputs": []
    },
    {
      "cell_type": "code",
      "metadata": {
        "id": "P8rduu4FQP1N",
        "colab_type": "code",
        "colab": {}
      },
      "source": [
        " tree <- rpart(Label ~ ., train_svd, method = \"class\")"
      ],
      "execution_count": 0,
      "outputs": []
    },
    {
      "cell_type": "code",
      "metadata": {
        "id": "kYWa3bTUreul",
        "colab_type": "code",
        "colab": {}
      },
      "source": [
        "rpart.cv.4"
      ],
      "execution_count": 0,
      "outputs": []
    },
    {
      "cell_type": "code",
      "metadata": {
        "id": "xk54ET5KtHkX",
        "colab_type": "code",
        "colab": {}
      },
      "source": [
        "pred = predict(rpart.cv.4, test_svd)"
      ],
      "execution_count": 0,
      "outputs": []
    },
    {
      "cell_type": "code",
      "metadata": {
        "id": "ZAUiaUxntQoF",
        "colab_type": "code",
        "colab": {}
      },
      "source": [
        "conf= table(test$ham_spam, pred)\n",
        "conf\n",
        "acc = sum(diag(conf))/sum(conf)\n",
        "acc"
      ],
      "execution_count": 0,
      "outputs": []
    },
    {
      "cell_type": "code",
      "metadata": {
        "id": "P80KobbBM4Xn",
        "colab_type": "code",
        "colab": {}
      },
      "source": [
        "cm = confusionMatrix(conf)"
      ],
      "execution_count": 0,
      "outputs": []
    },
    {
      "cell_type": "code",
      "metadata": {
        "id": "ScgV-li2ND0h",
        "colab_type": "code",
        "colab": {}
      },
      "source": [
        "draw_confusion_matrix <- function(cm) {\n",
        "  \n",
        "  total <- sum(cm$table)\n",
        "  res <- as.numeric(cm$table)\n",
        "\n",
        "  layout(matrix(c(1,1,2)))\n",
        "  par(mar=c(2,2,2,2))\n",
        "  plot(c(100, 345), c(300, 450), type = \"n\", xlab=\"\", ylab=\"\", xaxt='n', yaxt='n')\n",
        "  title('CONFUSION MATRIX', cex.main=2)\n",
        "\n",
        "  # create the matrix \n",
        "  classes = colnames(cm$table)\n",
        "  rect(150, 430, 240, 370, col='#3F97D0')\n",
        "  text(195, 435, 'ham', cex=1.2)\n",
        "  rect(250, 430, 340, 370, col='#F7AD50')\n",
        "  text(295, 435, 'spam', cex=1.2)\n",
        "  text(125, 370, 'Predicted', cex=1.3, srt=90, font=2)\n",
        "  text(245, 450, 'Actual', cex=1.3, font=2)\n",
        "  rect(150, 305, 240, 365, col='#F7AD50')\n",
        "  rect(250, 305, 340, 365, col='#3F97D0')\n",
        "  text(140, 400, 'ham', cex=1.2, srt=90)\n",
        "  text(140, 335, 'spam', cex=1.2, srt=90)\n",
        "\n",
        "  # add in the cm results \n",
        "  res <- as.numeric(cm$table)\n",
        "  text(195, 400, res[1], cex=1.6, font=2, col='white')\n",
        "  text(195, 335, res[2], cex=1.6, font=2, col='white')\n",
        "  text(295, 400, res[3], cex=1.6, font=2, col='white')\n",
        "  text(295, 335, res[4], cex=1.6, font=2, col='white')\n",
        "\n",
        "  # add in the specifics \n",
        "  plot(c(100, 0), c(100, 0), type = \"n\", xlab=\"\", ylab=\"\", main = \"DETAILS\", xaxt='n', yaxt='n')\n",
        "  text(10, 85, names(cm$byClass[1]), cex=1.2, font=2)\n",
        "  text(10, 70, round(as.numeric(cm$byClass[1]), 3), cex=1.2)\n",
        "  text(30, 85, names(cm$byClass[2]), cex=1.2, font=2)\n",
        "  text(30, 70, round(as.numeric(cm$byClass[2]), 3), cex=1.2)\n",
        "  text(50, 85, names(cm$byClass[5]), cex=1.2, font=2)\n",
        "  text(50, 70, round(as.numeric(cm$byClass[5]), 3), cex=1.2)\n",
        "  text(70, 85, names(cm$byClass[6]), cex=1.2, font=2)\n",
        "  text(70, 70, round(as.numeric(cm$byClass[6]), 3), cex=1.2)\n",
        "  text(90, 85, names(cm$byClass[7]), cex=1.2, font=2)\n",
        "  text(90, 70, round(as.numeric(cm$byClass[7]), 3), cex=1.2)\n",
        "\n",
        "  # add in the accuracy information \n",
        "  text(30, 35, names(cm$overall[1]), cex=1.5, font=2)\n",
        "  text(30, 20, round(as.numeric(cm$overall[1]), 3), cex=1.4)\n",
        "  text(70, 35, names(cm$overall[2]), cex=1.5, font=2)\n",
        "  text(70, 20, round(as.numeric(cm$overall[2]), 3), cex=1.4)\n",
        "}"
      ],
      "execution_count": 0,
      "outputs": []
    },
    {
      "cell_type": "code",
      "metadata": {
        "id": "LvAWfcc8NHI4",
        "colab_type": "code",
        "colab": {}
      },
      "source": [
        "draw_confusion_matrix(cm)"
      ],
      "execution_count": 0,
      "outputs": []
    },
    {
      "cell_type": "code",
      "metadata": {
        "id": "6Agj7v2gNvjW",
        "colab_type": "code",
        "colab": {}
      },
      "source": [
        "draw_confusion_matrix2 <- function(cm) {\n",
        "\n",
        "  total <- sum(cm$table)\n",
        "  res <- as.numeric(cm$table)\n",
        "\n",
        "  # Generate color gradients. Palettes come from RColorBrewer.\n",
        "  greenPalette <- c(\"#F7FCF5\",\"#E5F5E0\",\"#C7E9C0\",\"#A1D99B\",\"#74C476\",\"#41AB5D\",\"#238B45\",\"#006D2C\",\"#00441B\")\n",
        "  redPalette <- c(\"#FFF5F0\",\"#FEE0D2\",\"#FCBBA1\",\"#FC9272\",\"#FB6A4A\",\"#EF3B2C\",\"#CB181D\",\"#A50F15\",\"#67000D\")\n",
        "  getColor <- function (greenOrRed = \"green\", amount = 0) {\n",
        "    if (amount == 0)\n",
        "      return(\"#FFFFFF\")\n",
        "    palette <- greenPalette\n",
        "    if (greenOrRed == \"red\")\n",
        "      palette <- redPalette\n",
        "    colorRampPalette(palette)(100)[10 + ceiling(90 * amount / total)]\n",
        "  }\n",
        "\n",
        "  # set the basic layout\n",
        "  layout(matrix(c(1,1,2)))\n",
        "  par(mar=c(2,2,2,2))\n",
        "  plot(c(100, 345), c(300, 450), type = \"n\", xlab=\"\", ylab=\"\", xaxt='n', yaxt='n')\n",
        "  title('CONFUSION MATRIX', cex.main=2)\n",
        "\n",
        "  # create the matrix \n",
        "  classes = colnames(cm$table)\n",
        "  rect(150, 430, 240, 370, col=getColor(\"green\", res[1]))\n",
        "  text(195, 435, classes[1], cex=1.2)\n",
        "  rect(250, 430, 340, 370, col=getColor(\"red\", res[3]))\n",
        "  text(295, 435, classes[2], cex=1.2)\n",
        "  text(125, 370, 'Predicted', cex=1.3, srt=90, font=2)\n",
        "  text(245, 450, 'Actual', cex=1.3, font=2)\n",
        "  rect(150, 305, 240, 365, col=getColor(\"red\", res[2]))\n",
        "  rect(250, 305, 340, 365, col=getColor(\"green\", res[4]))\n",
        "  text(140, 400, classes[1], cex=1.2, srt=90)\n",
        "  text(140, 335, classes[2], cex=1.2, srt=90)\n",
        "\n",
        "  # add in the cm results\n",
        "  text(195, 400, res[1], cex=1.6, font=2, col='white')\n",
        "  text(195, 335, res[2], cex=1.6, font=2, col='white')\n",
        "  text(295, 400, res[3], cex=1.6, font=2, col='white')\n",
        "  text(295, 335, res[4], cex=1.6, font=2, col='white')\n",
        "\n",
        "  # add in the specifics \n",
        "  plot(c(100, 0), c(100, 0), type = \"n\", xlab=\"\", ylab=\"\", main = \"DETAILS\", xaxt='n', yaxt='n')\n",
        "  text(10, 85, names(cm$byClass[1]), cex=1.2, font=2)\n",
        "  text(10, 70, round(as.numeric(cm$byClass[1]), 3), cex=1.2)\n",
        "  text(30, 85, names(cm$byClass[2]), cex=1.2, font=2)\n",
        "  text(30, 70, round(as.numeric(cm$byClass[2]), 3), cex=1.2)\n",
        "  text(50, 85, names(cm$byClass[5]), cex=1.2, font=2)\n",
        "  text(50, 70, round(as.numeric(cm$byClass[5]), 3), cex=1.2)\n",
        "  text(70, 85, names(cm$byClass[6]), cex=1.2, font=2)\n",
        "  text(70, 70, round(as.numeric(cm$byClass[6]), 3), cex=1.2)\n",
        "  text(90, 85, names(cm$byClass[7]), cex=1.2, font=2)\n",
        "  text(90, 70, round(as.numeric(cm$byClass[7]), 3), cex=1.2)\n",
        "\n",
        "  # add in the accuracy information \n",
        "  text(30, 35, names(cm$overall[1]), cex=1.5, font=2)\n",
        "  text(30, 20, round(as.numeric(cm$overall[1]), 3), cex=1.4)\n",
        "  text(70, 35, names(cm$overall[2]), cex=1.5, font=2)\n",
        "  text(70, 20, round(as.numeric(cm$overall[2]), 3), cex=1.4)\n",
        "}"
      ],
      "execution_count": 0,
      "outputs": []
    },
    {
      "cell_type": "code",
      "metadata": {
        "id": "JGTDVXOXte-F",
        "colab_type": "code",
        "colab": {}
      },
      "source": [
        "confusionMatrix(train.svd$Label, rf.cv.4$finalModel$predicted)"
      ],
      "execution_count": 0,
      "outputs": []
    }
  ]
}